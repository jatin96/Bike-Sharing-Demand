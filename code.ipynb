{
 "cells": [
  {
   "cell_type": "code",
   "execution_count": 74,
   "metadata": {},
   "outputs": [],
   "source": [
    "import pandas as pd\n",
    "data = pd.read_csv(\"train.csv\")\n"
   ]
  },
  {
   "cell_type": "markdown",
   "metadata": {},
   "source": [
    "# Data Exploration\n",
    "\n",
    "## Data Fields\n",
    "* datetime - hourly date + timestamp\n",
    "* season - 1 = spring, 2 = summer, 3 = fall, 4 = winter\n",
    "* holiday - whether the day is considered a holiday\n",
    "* workingday - whether the day is neither a weekend nor holiday\n",
    "* weather -\n",
    " 1: Clear, Few clouds, Partly cloudy, Partly cloudy\n",
    "2: Mist + Cloudy, Mist + Broken clouds, Mist + Few clouds, Mist\n",
    "3: Light Snow, Light Rain + Thunderstorm + Scattered clouds, Light Rain + Scattered clouds\n",
    "4: Heavy Rain + Ice Pallets + Thunderstorm + Mist, Snow + Fog\n",
    "* temp - temperature in Celsius\n",
    "* atemp - \"feels like\" temperature in Celsius\n",
    "* humidity - relative humidity\n",
    "* windspeed - wind speed\n",
    "* casual - number of non-registered user rentals initiated\n",
    "* registered - number of registered user rentals initiated\n",
    "* count - number of total rentals (Dependent Variable)"
   ]
  },
  {
   "cell_type": "code",
   "execution_count": 75,
   "metadata": {},
   "outputs": [
    {
     "data": {
      "text/html": [
       "<div>\n",
       "<style scoped>\n",
       "    .dataframe tbody tr th:only-of-type {\n",
       "        vertical-align: middle;\n",
       "    }\n",
       "\n",
       "    .dataframe tbody tr th {\n",
       "        vertical-align: top;\n",
       "    }\n",
       "\n",
       "    .dataframe thead th {\n",
       "        text-align: right;\n",
       "    }\n",
       "</style>\n",
       "<table border=\"1\" class=\"dataframe\">\n",
       "  <thead>\n",
       "    <tr style=\"text-align: right;\">\n",
       "      <th></th>\n",
       "      <th>datetime</th>\n",
       "      <th>season</th>\n",
       "      <th>holiday</th>\n",
       "      <th>workingday</th>\n",
       "      <th>weather</th>\n",
       "      <th>temp</th>\n",
       "      <th>atemp</th>\n",
       "      <th>humidity</th>\n",
       "      <th>windspeed</th>\n",
       "      <th>casual</th>\n",
       "      <th>registered</th>\n",
       "      <th>count</th>\n",
       "    </tr>\n",
       "  </thead>\n",
       "  <tbody>\n",
       "    <tr>\n",
       "      <th>0</th>\n",
       "      <td>2011-01-01 00:00:00</td>\n",
       "      <td>1</td>\n",
       "      <td>0</td>\n",
       "      <td>0</td>\n",
       "      <td>1</td>\n",
       "      <td>9.84</td>\n",
       "      <td>14.395</td>\n",
       "      <td>81</td>\n",
       "      <td>0.0</td>\n",
       "      <td>3</td>\n",
       "      <td>13</td>\n",
       "      <td>16</td>\n",
       "    </tr>\n",
       "    <tr>\n",
       "      <th>1</th>\n",
       "      <td>2011-01-01 01:00:00</td>\n",
       "      <td>1</td>\n",
       "      <td>0</td>\n",
       "      <td>0</td>\n",
       "      <td>1</td>\n",
       "      <td>9.02</td>\n",
       "      <td>13.635</td>\n",
       "      <td>80</td>\n",
       "      <td>0.0</td>\n",
       "      <td>8</td>\n",
       "      <td>32</td>\n",
       "      <td>40</td>\n",
       "    </tr>\n",
       "    <tr>\n",
       "      <th>2</th>\n",
       "      <td>2011-01-01 02:00:00</td>\n",
       "      <td>1</td>\n",
       "      <td>0</td>\n",
       "      <td>0</td>\n",
       "      <td>1</td>\n",
       "      <td>9.02</td>\n",
       "      <td>13.635</td>\n",
       "      <td>80</td>\n",
       "      <td>0.0</td>\n",
       "      <td>5</td>\n",
       "      <td>27</td>\n",
       "      <td>32</td>\n",
       "    </tr>\n",
       "    <tr>\n",
       "      <th>3</th>\n",
       "      <td>2011-01-01 03:00:00</td>\n",
       "      <td>1</td>\n",
       "      <td>0</td>\n",
       "      <td>0</td>\n",
       "      <td>1</td>\n",
       "      <td>9.84</td>\n",
       "      <td>14.395</td>\n",
       "      <td>75</td>\n",
       "      <td>0.0</td>\n",
       "      <td>3</td>\n",
       "      <td>10</td>\n",
       "      <td>13</td>\n",
       "    </tr>\n",
       "    <tr>\n",
       "      <th>4</th>\n",
       "      <td>2011-01-01 04:00:00</td>\n",
       "      <td>1</td>\n",
       "      <td>0</td>\n",
       "      <td>0</td>\n",
       "      <td>1</td>\n",
       "      <td>9.84</td>\n",
       "      <td>14.395</td>\n",
       "      <td>75</td>\n",
       "      <td>0.0</td>\n",
       "      <td>0</td>\n",
       "      <td>1</td>\n",
       "      <td>1</td>\n",
       "    </tr>\n",
       "  </tbody>\n",
       "</table>\n",
       "</div>"
      ],
      "text/plain": [
       "              datetime  season  holiday  workingday  weather  temp   atemp  \\\n",
       "0  2011-01-01 00:00:00       1        0           0        1  9.84  14.395   \n",
       "1  2011-01-01 01:00:00       1        0           0        1  9.02  13.635   \n",
       "2  2011-01-01 02:00:00       1        0           0        1  9.02  13.635   \n",
       "3  2011-01-01 03:00:00       1        0           0        1  9.84  14.395   \n",
       "4  2011-01-01 04:00:00       1        0           0        1  9.84  14.395   \n",
       "\n",
       "   humidity  windspeed  casual  registered  count  \n",
       "0        81        0.0       3          13     16  \n",
       "1        80        0.0       8          32     40  \n",
       "2        80        0.0       5          27     32  \n",
       "3        75        0.0       3          10     13  \n",
       "4        75        0.0       0           1      1  "
      ]
     },
     "execution_count": 75,
     "metadata": {},
     "output_type": "execute_result"
    }
   ],
   "source": [
    "data.head(5)"
   ]
  },
  {
   "cell_type": "code",
   "execution_count": 76,
   "metadata": {},
   "outputs": [
    {
     "data": {
      "text/plain": [
       "(10886, 12)"
      ]
     },
     "execution_count": 76,
     "metadata": {},
     "output_type": "execute_result"
    }
   ],
   "source": [
    "data.shape"
   ]
  },
  {
   "cell_type": "code",
   "execution_count": 77,
   "metadata": {},
   "outputs": [
    {
     "data": {
      "text/plain": [
       "datetime       object\n",
       "season          int64\n",
       "holiday         int64\n",
       "workingday      int64\n",
       "weather         int64\n",
       "temp          float64\n",
       "atemp         float64\n",
       "humidity        int64\n",
       "windspeed     float64\n",
       "casual          int64\n",
       "registered      int64\n",
       "count           int64\n",
       "dtype: object"
      ]
     },
     "execution_count": 77,
     "metadata": {},
     "output_type": "execute_result"
    }
   ],
   "source": [
    "data.dtypes"
   ]
  },
  {
   "cell_type": "code",
   "execution_count": 78,
   "metadata": {},
   "outputs": [
    {
     "data": {
      "text/html": [
       "<div>\n",
       "<style scoped>\n",
       "    .dataframe tbody tr th:only-of-type {\n",
       "        vertical-align: middle;\n",
       "    }\n",
       "\n",
       "    .dataframe tbody tr th {\n",
       "        vertical-align: top;\n",
       "    }\n",
       "\n",
       "    .dataframe thead th {\n",
       "        text-align: right;\n",
       "    }\n",
       "</style>\n",
       "<table border=\"1\" class=\"dataframe\">\n",
       "  <thead>\n",
       "    <tr style=\"text-align: right;\">\n",
       "      <th></th>\n",
       "      <th>datetime</th>\n",
       "      <th>season</th>\n",
       "      <th>holiday</th>\n",
       "      <th>workingday</th>\n",
       "      <th>weather</th>\n",
       "      <th>temp</th>\n",
       "      <th>atemp</th>\n",
       "      <th>humidity</th>\n",
       "      <th>windspeed</th>\n",
       "      <th>casual</th>\n",
       "      <th>registered</th>\n",
       "      <th>count</th>\n",
       "      <th>date</th>\n",
       "      <th>time</th>\n",
       "      <th>weekday</th>\n",
       "      <th>month</th>\n",
       "    </tr>\n",
       "  </thead>\n",
       "  <tbody>\n",
       "    <tr>\n",
       "      <th>0</th>\n",
       "      <td>2011-01-01 00:00:00</td>\n",
       "      <td>Spring</td>\n",
       "      <td>0</td>\n",
       "      <td>0</td>\n",
       "      <td>Clear + Few clouds + Partly cloudy + Partly c...</td>\n",
       "      <td>9.84</td>\n",
       "      <td>14.395</td>\n",
       "      <td>81</td>\n",
       "      <td>0.0000</td>\n",
       "      <td>3</td>\n",
       "      <td>13</td>\n",
       "      <td>16</td>\n",
       "      <td>2011-01-01</td>\n",
       "      <td>00</td>\n",
       "      <td>Saturday</td>\n",
       "      <td>January</td>\n",
       "    </tr>\n",
       "    <tr>\n",
       "      <th>1</th>\n",
       "      <td>2011-01-01 01:00:00</td>\n",
       "      <td>Spring</td>\n",
       "      <td>0</td>\n",
       "      <td>0</td>\n",
       "      <td>Clear + Few clouds + Partly cloudy + Partly c...</td>\n",
       "      <td>9.02</td>\n",
       "      <td>13.635</td>\n",
       "      <td>80</td>\n",
       "      <td>0.0000</td>\n",
       "      <td>8</td>\n",
       "      <td>32</td>\n",
       "      <td>40</td>\n",
       "      <td>2011-01-01</td>\n",
       "      <td>01</td>\n",
       "      <td>Saturday</td>\n",
       "      <td>January</td>\n",
       "    </tr>\n",
       "    <tr>\n",
       "      <th>2</th>\n",
       "      <td>2011-01-01 02:00:00</td>\n",
       "      <td>Spring</td>\n",
       "      <td>0</td>\n",
       "      <td>0</td>\n",
       "      <td>Clear + Few clouds + Partly cloudy + Partly c...</td>\n",
       "      <td>9.02</td>\n",
       "      <td>13.635</td>\n",
       "      <td>80</td>\n",
       "      <td>0.0000</td>\n",
       "      <td>5</td>\n",
       "      <td>27</td>\n",
       "      <td>32</td>\n",
       "      <td>2011-01-01</td>\n",
       "      <td>02</td>\n",
       "      <td>Saturday</td>\n",
       "      <td>January</td>\n",
       "    </tr>\n",
       "    <tr>\n",
       "      <th>3</th>\n",
       "      <td>2011-01-01 03:00:00</td>\n",
       "      <td>Spring</td>\n",
       "      <td>0</td>\n",
       "      <td>0</td>\n",
       "      <td>Clear + Few clouds + Partly cloudy + Partly c...</td>\n",
       "      <td>9.84</td>\n",
       "      <td>14.395</td>\n",
       "      <td>75</td>\n",
       "      <td>0.0000</td>\n",
       "      <td>3</td>\n",
       "      <td>10</td>\n",
       "      <td>13</td>\n",
       "      <td>2011-01-01</td>\n",
       "      <td>03</td>\n",
       "      <td>Saturday</td>\n",
       "      <td>January</td>\n",
       "    </tr>\n",
       "    <tr>\n",
       "      <th>4</th>\n",
       "      <td>2011-01-01 04:00:00</td>\n",
       "      <td>Spring</td>\n",
       "      <td>0</td>\n",
       "      <td>0</td>\n",
       "      <td>Clear + Few clouds + Partly cloudy + Partly c...</td>\n",
       "      <td>9.84</td>\n",
       "      <td>14.395</td>\n",
       "      <td>75</td>\n",
       "      <td>0.0000</td>\n",
       "      <td>0</td>\n",
       "      <td>1</td>\n",
       "      <td>1</td>\n",
       "      <td>2011-01-01</td>\n",
       "      <td>04</td>\n",
       "      <td>Saturday</td>\n",
       "      <td>January</td>\n",
       "    </tr>\n",
       "    <tr>\n",
       "      <th>5</th>\n",
       "      <td>2011-01-01 05:00:00</td>\n",
       "      <td>Spring</td>\n",
       "      <td>0</td>\n",
       "      <td>0</td>\n",
       "      <td>Mist + Cloudy, Mist + Broken clouds, Mist + F...</td>\n",
       "      <td>9.84</td>\n",
       "      <td>12.880</td>\n",
       "      <td>75</td>\n",
       "      <td>6.0032</td>\n",
       "      <td>0</td>\n",
       "      <td>1</td>\n",
       "      <td>1</td>\n",
       "      <td>2011-01-01</td>\n",
       "      <td>05</td>\n",
       "      <td>Saturday</td>\n",
       "      <td>January</td>\n",
       "    </tr>\n",
       "    <tr>\n",
       "      <th>6</th>\n",
       "      <td>2011-01-01 06:00:00</td>\n",
       "      <td>Spring</td>\n",
       "      <td>0</td>\n",
       "      <td>0</td>\n",
       "      <td>Clear + Few clouds + Partly cloudy + Partly c...</td>\n",
       "      <td>9.02</td>\n",
       "      <td>13.635</td>\n",
       "      <td>80</td>\n",
       "      <td>0.0000</td>\n",
       "      <td>2</td>\n",
       "      <td>0</td>\n",
       "      <td>2</td>\n",
       "      <td>2011-01-01</td>\n",
       "      <td>06</td>\n",
       "      <td>Saturday</td>\n",
       "      <td>January</td>\n",
       "    </tr>\n",
       "    <tr>\n",
       "      <th>7</th>\n",
       "      <td>2011-01-01 07:00:00</td>\n",
       "      <td>Spring</td>\n",
       "      <td>0</td>\n",
       "      <td>0</td>\n",
       "      <td>Clear + Few clouds + Partly cloudy + Partly c...</td>\n",
       "      <td>8.20</td>\n",
       "      <td>12.880</td>\n",
       "      <td>86</td>\n",
       "      <td>0.0000</td>\n",
       "      <td>1</td>\n",
       "      <td>2</td>\n",
       "      <td>3</td>\n",
       "      <td>2011-01-01</td>\n",
       "      <td>07</td>\n",
       "      <td>Saturday</td>\n",
       "      <td>January</td>\n",
       "    </tr>\n",
       "    <tr>\n",
       "      <th>8</th>\n",
       "      <td>2011-01-01 08:00:00</td>\n",
       "      <td>Spring</td>\n",
       "      <td>0</td>\n",
       "      <td>0</td>\n",
       "      <td>Clear + Few clouds + Partly cloudy + Partly c...</td>\n",
       "      <td>9.84</td>\n",
       "      <td>14.395</td>\n",
       "      <td>75</td>\n",
       "      <td>0.0000</td>\n",
       "      <td>1</td>\n",
       "      <td>7</td>\n",
       "      <td>8</td>\n",
       "      <td>2011-01-01</td>\n",
       "      <td>08</td>\n",
       "      <td>Saturday</td>\n",
       "      <td>January</td>\n",
       "    </tr>\n",
       "    <tr>\n",
       "      <th>9</th>\n",
       "      <td>2011-01-01 09:00:00</td>\n",
       "      <td>Spring</td>\n",
       "      <td>0</td>\n",
       "      <td>0</td>\n",
       "      <td>Clear + Few clouds + Partly cloudy + Partly c...</td>\n",
       "      <td>13.12</td>\n",
       "      <td>17.425</td>\n",
       "      <td>76</td>\n",
       "      <td>0.0000</td>\n",
       "      <td>8</td>\n",
       "      <td>6</td>\n",
       "      <td>14</td>\n",
       "      <td>2011-01-01</td>\n",
       "      <td>09</td>\n",
       "      <td>Saturday</td>\n",
       "      <td>January</td>\n",
       "    </tr>\n",
       "    <tr>\n",
       "      <th>10</th>\n",
       "      <td>2011-01-01 10:00:00</td>\n",
       "      <td>Spring</td>\n",
       "      <td>0</td>\n",
       "      <td>0</td>\n",
       "      <td>Clear + Few clouds + Partly cloudy + Partly c...</td>\n",
       "      <td>15.58</td>\n",
       "      <td>19.695</td>\n",
       "      <td>76</td>\n",
       "      <td>16.9979</td>\n",
       "      <td>12</td>\n",
       "      <td>24</td>\n",
       "      <td>36</td>\n",
       "      <td>2011-01-01</td>\n",
       "      <td>10</td>\n",
       "      <td>Saturday</td>\n",
       "      <td>January</td>\n",
       "    </tr>\n",
       "    <tr>\n",
       "      <th>11</th>\n",
       "      <td>2011-01-01 11:00:00</td>\n",
       "      <td>Spring</td>\n",
       "      <td>0</td>\n",
       "      <td>0</td>\n",
       "      <td>Clear + Few clouds + Partly cloudy + Partly c...</td>\n",
       "      <td>14.76</td>\n",
       "      <td>16.665</td>\n",
       "      <td>81</td>\n",
       "      <td>19.0012</td>\n",
       "      <td>26</td>\n",
       "      <td>30</td>\n",
       "      <td>56</td>\n",
       "      <td>2011-01-01</td>\n",
       "      <td>11</td>\n",
       "      <td>Saturday</td>\n",
       "      <td>January</td>\n",
       "    </tr>\n",
       "    <tr>\n",
       "      <th>12</th>\n",
       "      <td>2011-01-01 12:00:00</td>\n",
       "      <td>Spring</td>\n",
       "      <td>0</td>\n",
       "      <td>0</td>\n",
       "      <td>Clear + Few clouds + Partly cloudy + Partly c...</td>\n",
       "      <td>17.22</td>\n",
       "      <td>21.210</td>\n",
       "      <td>77</td>\n",
       "      <td>19.0012</td>\n",
       "      <td>29</td>\n",
       "      <td>55</td>\n",
       "      <td>84</td>\n",
       "      <td>2011-01-01</td>\n",
       "      <td>12</td>\n",
       "      <td>Saturday</td>\n",
       "      <td>January</td>\n",
       "    </tr>\n",
       "    <tr>\n",
       "      <th>13</th>\n",
       "      <td>2011-01-01 13:00:00</td>\n",
       "      <td>Spring</td>\n",
       "      <td>0</td>\n",
       "      <td>0</td>\n",
       "      <td>Mist + Cloudy, Mist + Broken clouds, Mist + F...</td>\n",
       "      <td>18.86</td>\n",
       "      <td>22.725</td>\n",
       "      <td>72</td>\n",
       "      <td>19.9995</td>\n",
       "      <td>47</td>\n",
       "      <td>47</td>\n",
       "      <td>94</td>\n",
       "      <td>2011-01-01</td>\n",
       "      <td>13</td>\n",
       "      <td>Saturday</td>\n",
       "      <td>January</td>\n",
       "    </tr>\n",
       "    <tr>\n",
       "      <th>14</th>\n",
       "      <td>2011-01-01 14:00:00</td>\n",
       "      <td>Spring</td>\n",
       "      <td>0</td>\n",
       "      <td>0</td>\n",
       "      <td>Mist + Cloudy, Mist + Broken clouds, Mist + F...</td>\n",
       "      <td>18.86</td>\n",
       "      <td>22.725</td>\n",
       "      <td>72</td>\n",
       "      <td>19.0012</td>\n",
       "      <td>35</td>\n",
       "      <td>71</td>\n",
       "      <td>106</td>\n",
       "      <td>2011-01-01</td>\n",
       "      <td>14</td>\n",
       "      <td>Saturday</td>\n",
       "      <td>January</td>\n",
       "    </tr>\n",
       "    <tr>\n",
       "      <th>15</th>\n",
       "      <td>2011-01-01 15:00:00</td>\n",
       "      <td>Spring</td>\n",
       "      <td>0</td>\n",
       "      <td>0</td>\n",
       "      <td>Mist + Cloudy, Mist + Broken clouds, Mist + F...</td>\n",
       "      <td>18.04</td>\n",
       "      <td>21.970</td>\n",
       "      <td>77</td>\n",
       "      <td>19.9995</td>\n",
       "      <td>40</td>\n",
       "      <td>70</td>\n",
       "      <td>110</td>\n",
       "      <td>2011-01-01</td>\n",
       "      <td>15</td>\n",
       "      <td>Saturday</td>\n",
       "      <td>January</td>\n",
       "    </tr>\n",
       "    <tr>\n",
       "      <th>16</th>\n",
       "      <td>2011-01-01 16:00:00</td>\n",
       "      <td>Spring</td>\n",
       "      <td>0</td>\n",
       "      <td>0</td>\n",
       "      <td>Mist + Cloudy, Mist + Broken clouds, Mist + F...</td>\n",
       "      <td>17.22</td>\n",
       "      <td>21.210</td>\n",
       "      <td>82</td>\n",
       "      <td>19.9995</td>\n",
       "      <td>41</td>\n",
       "      <td>52</td>\n",
       "      <td>93</td>\n",
       "      <td>2011-01-01</td>\n",
       "      <td>16</td>\n",
       "      <td>Saturday</td>\n",
       "      <td>January</td>\n",
       "    </tr>\n",
       "    <tr>\n",
       "      <th>17</th>\n",
       "      <td>2011-01-01 17:00:00</td>\n",
       "      <td>Spring</td>\n",
       "      <td>0</td>\n",
       "      <td>0</td>\n",
       "      <td>Mist + Cloudy, Mist + Broken clouds, Mist + F...</td>\n",
       "      <td>18.04</td>\n",
       "      <td>21.970</td>\n",
       "      <td>82</td>\n",
       "      <td>19.0012</td>\n",
       "      <td>15</td>\n",
       "      <td>52</td>\n",
       "      <td>67</td>\n",
       "      <td>2011-01-01</td>\n",
       "      <td>17</td>\n",
       "      <td>Saturday</td>\n",
       "      <td>January</td>\n",
       "    </tr>\n",
       "    <tr>\n",
       "      <th>18</th>\n",
       "      <td>2011-01-01 18:00:00</td>\n",
       "      <td>Spring</td>\n",
       "      <td>0</td>\n",
       "      <td>0</td>\n",
       "      <td>Light Snow, Light Rain + Thunderstorm + Scatt...</td>\n",
       "      <td>17.22</td>\n",
       "      <td>21.210</td>\n",
       "      <td>88</td>\n",
       "      <td>16.9979</td>\n",
       "      <td>9</td>\n",
       "      <td>26</td>\n",
       "      <td>35</td>\n",
       "      <td>2011-01-01</td>\n",
       "      <td>18</td>\n",
       "      <td>Saturday</td>\n",
       "      <td>January</td>\n",
       "    </tr>\n",
       "    <tr>\n",
       "      <th>19</th>\n",
       "      <td>2011-01-01 19:00:00</td>\n",
       "      <td>Spring</td>\n",
       "      <td>0</td>\n",
       "      <td>0</td>\n",
       "      <td>Light Snow, Light Rain + Thunderstorm + Scatt...</td>\n",
       "      <td>17.22</td>\n",
       "      <td>21.210</td>\n",
       "      <td>88</td>\n",
       "      <td>16.9979</td>\n",
       "      <td>6</td>\n",
       "      <td>31</td>\n",
       "      <td>37</td>\n",
       "      <td>2011-01-01</td>\n",
       "      <td>19</td>\n",
       "      <td>Saturday</td>\n",
       "      <td>January</td>\n",
       "    </tr>\n",
       "    <tr>\n",
       "      <th>20</th>\n",
       "      <td>2011-01-01 20:00:00</td>\n",
       "      <td>Spring</td>\n",
       "      <td>0</td>\n",
       "      <td>0</td>\n",
       "      <td>Mist + Cloudy, Mist + Broken clouds, Mist + F...</td>\n",
       "      <td>16.40</td>\n",
       "      <td>20.455</td>\n",
       "      <td>87</td>\n",
       "      <td>16.9979</td>\n",
       "      <td>11</td>\n",
       "      <td>25</td>\n",
       "      <td>36</td>\n",
       "      <td>2011-01-01</td>\n",
       "      <td>20</td>\n",
       "      <td>Saturday</td>\n",
       "      <td>January</td>\n",
       "    </tr>\n",
       "    <tr>\n",
       "      <th>21</th>\n",
       "      <td>2011-01-01 21:00:00</td>\n",
       "      <td>Spring</td>\n",
       "      <td>0</td>\n",
       "      <td>0</td>\n",
       "      <td>Mist + Cloudy, Mist + Broken clouds, Mist + F...</td>\n",
       "      <td>16.40</td>\n",
       "      <td>20.455</td>\n",
       "      <td>87</td>\n",
       "      <td>12.9980</td>\n",
       "      <td>3</td>\n",
       "      <td>31</td>\n",
       "      <td>34</td>\n",
       "      <td>2011-01-01</td>\n",
       "      <td>21</td>\n",
       "      <td>Saturday</td>\n",
       "      <td>January</td>\n",
       "    </tr>\n",
       "    <tr>\n",
       "      <th>22</th>\n",
       "      <td>2011-01-01 22:00:00</td>\n",
       "      <td>Spring</td>\n",
       "      <td>0</td>\n",
       "      <td>0</td>\n",
       "      <td>Mist + Cloudy, Mist + Broken clouds, Mist + F...</td>\n",
       "      <td>16.40</td>\n",
       "      <td>20.455</td>\n",
       "      <td>94</td>\n",
       "      <td>15.0013</td>\n",
       "      <td>11</td>\n",
       "      <td>17</td>\n",
       "      <td>28</td>\n",
       "      <td>2011-01-01</td>\n",
       "      <td>22</td>\n",
       "      <td>Saturday</td>\n",
       "      <td>January</td>\n",
       "    </tr>\n",
       "    <tr>\n",
       "      <th>23</th>\n",
       "      <td>2011-01-01 23:00:00</td>\n",
       "      <td>Spring</td>\n",
       "      <td>0</td>\n",
       "      <td>0</td>\n",
       "      <td>Mist + Cloudy, Mist + Broken clouds, Mist + F...</td>\n",
       "      <td>18.86</td>\n",
       "      <td>22.725</td>\n",
       "      <td>88</td>\n",
       "      <td>19.9995</td>\n",
       "      <td>15</td>\n",
       "      <td>24</td>\n",
       "      <td>39</td>\n",
       "      <td>2011-01-01</td>\n",
       "      <td>23</td>\n",
       "      <td>Saturday</td>\n",
       "      <td>January</td>\n",
       "    </tr>\n",
       "    <tr>\n",
       "      <th>24</th>\n",
       "      <td>2011-01-02 00:00:00</td>\n",
       "      <td>Spring</td>\n",
       "      <td>0</td>\n",
       "      <td>0</td>\n",
       "      <td>Mist + Cloudy, Mist + Broken clouds, Mist + F...</td>\n",
       "      <td>18.86</td>\n",
       "      <td>22.725</td>\n",
       "      <td>88</td>\n",
       "      <td>19.9995</td>\n",
       "      <td>4</td>\n",
       "      <td>13</td>\n",
       "      <td>17</td>\n",
       "      <td>2011-01-02</td>\n",
       "      <td>00</td>\n",
       "      <td>Sunday</td>\n",
       "      <td>January</td>\n",
       "    </tr>\n",
       "    <tr>\n",
       "      <th>25</th>\n",
       "      <td>2011-01-02 01:00:00</td>\n",
       "      <td>Spring</td>\n",
       "      <td>0</td>\n",
       "      <td>0</td>\n",
       "      <td>Mist + Cloudy, Mist + Broken clouds, Mist + F...</td>\n",
       "      <td>18.04</td>\n",
       "      <td>21.970</td>\n",
       "      <td>94</td>\n",
       "      <td>16.9979</td>\n",
       "      <td>1</td>\n",
       "      <td>16</td>\n",
       "      <td>17</td>\n",
       "      <td>2011-01-02</td>\n",
       "      <td>01</td>\n",
       "      <td>Sunday</td>\n",
       "      <td>January</td>\n",
       "    </tr>\n",
       "    <tr>\n",
       "      <th>26</th>\n",
       "      <td>2011-01-02 02:00:00</td>\n",
       "      <td>Spring</td>\n",
       "      <td>0</td>\n",
       "      <td>0</td>\n",
       "      <td>Mist + Cloudy, Mist + Broken clouds, Mist + F...</td>\n",
       "      <td>17.22</td>\n",
       "      <td>21.210</td>\n",
       "      <td>100</td>\n",
       "      <td>19.0012</td>\n",
       "      <td>1</td>\n",
       "      <td>8</td>\n",
       "      <td>9</td>\n",
       "      <td>2011-01-02</td>\n",
       "      <td>02</td>\n",
       "      <td>Sunday</td>\n",
       "      <td>January</td>\n",
       "    </tr>\n",
       "    <tr>\n",
       "      <th>27</th>\n",
       "      <td>2011-01-02 03:00:00</td>\n",
       "      <td>Spring</td>\n",
       "      <td>0</td>\n",
       "      <td>0</td>\n",
       "      <td>Mist + Cloudy, Mist + Broken clouds, Mist + F...</td>\n",
       "      <td>18.86</td>\n",
       "      <td>22.725</td>\n",
       "      <td>94</td>\n",
       "      <td>12.9980</td>\n",
       "      <td>2</td>\n",
       "      <td>4</td>\n",
       "      <td>6</td>\n",
       "      <td>2011-01-02</td>\n",
       "      <td>03</td>\n",
       "      <td>Sunday</td>\n",
       "      <td>January</td>\n",
       "    </tr>\n",
       "    <tr>\n",
       "      <th>28</th>\n",
       "      <td>2011-01-02 04:00:00</td>\n",
       "      <td>Spring</td>\n",
       "      <td>0</td>\n",
       "      <td>0</td>\n",
       "      <td>Mist + Cloudy, Mist + Broken clouds, Mist + F...</td>\n",
       "      <td>18.86</td>\n",
       "      <td>22.725</td>\n",
       "      <td>94</td>\n",
       "      <td>12.9980</td>\n",
       "      <td>2</td>\n",
       "      <td>1</td>\n",
       "      <td>3</td>\n",
       "      <td>2011-01-02</td>\n",
       "      <td>04</td>\n",
       "      <td>Sunday</td>\n",
       "      <td>January</td>\n",
       "    </tr>\n",
       "    <tr>\n",
       "      <th>29</th>\n",
       "      <td>2011-01-02 06:00:00</td>\n",
       "      <td>Spring</td>\n",
       "      <td>0</td>\n",
       "      <td>0</td>\n",
       "      <td>Light Snow, Light Rain + Thunderstorm + Scatt...</td>\n",
       "      <td>17.22</td>\n",
       "      <td>21.210</td>\n",
       "      <td>77</td>\n",
       "      <td>19.9995</td>\n",
       "      <td>0</td>\n",
       "      <td>2</td>\n",
       "      <td>2</td>\n",
       "      <td>2011-01-02</td>\n",
       "      <td>06</td>\n",
       "      <td>Sunday</td>\n",
       "      <td>January</td>\n",
       "    </tr>\n",
       "    <tr>\n",
       "      <th>...</th>\n",
       "      <td>...</td>\n",
       "      <td>...</td>\n",
       "      <td>...</td>\n",
       "      <td>...</td>\n",
       "      <td>...</td>\n",
       "      <td>...</td>\n",
       "      <td>...</td>\n",
       "      <td>...</td>\n",
       "      <td>...</td>\n",
       "      <td>...</td>\n",
       "      <td>...</td>\n",
       "      <td>...</td>\n",
       "      <td>...</td>\n",
       "      <td>...</td>\n",
       "      <td>...</td>\n",
       "      <td>...</td>\n",
       "    </tr>\n",
       "    <tr>\n",
       "      <th>10856</th>\n",
       "      <td>2012-12-18 18:00:00</td>\n",
       "      <td>Winter</td>\n",
       "      <td>0</td>\n",
       "      <td>1</td>\n",
       "      <td>Clear + Few clouds + Partly cloudy + Partly c...</td>\n",
       "      <td>15.58</td>\n",
       "      <td>19.695</td>\n",
       "      <td>46</td>\n",
       "      <td>22.0028</td>\n",
       "      <td>13</td>\n",
       "      <td>512</td>\n",
       "      <td>525</td>\n",
       "      <td>2012-12-18</td>\n",
       "      <td>18</td>\n",
       "      <td>Tuesday</td>\n",
       "      <td>December</td>\n",
       "    </tr>\n",
       "    <tr>\n",
       "      <th>10857</th>\n",
       "      <td>2012-12-18 19:00:00</td>\n",
       "      <td>Winter</td>\n",
       "      <td>0</td>\n",
       "      <td>1</td>\n",
       "      <td>Clear + Few clouds + Partly cloudy + Partly c...</td>\n",
       "      <td>15.58</td>\n",
       "      <td>19.695</td>\n",
       "      <td>46</td>\n",
       "      <td>26.0027</td>\n",
       "      <td>19</td>\n",
       "      <td>334</td>\n",
       "      <td>353</td>\n",
       "      <td>2012-12-18</td>\n",
       "      <td>19</td>\n",
       "      <td>Tuesday</td>\n",
       "      <td>December</td>\n",
       "    </tr>\n",
       "    <tr>\n",
       "      <th>10858</th>\n",
       "      <td>2012-12-18 20:00:00</td>\n",
       "      <td>Winter</td>\n",
       "      <td>0</td>\n",
       "      <td>1</td>\n",
       "      <td>Clear + Few clouds + Partly cloudy + Partly c...</td>\n",
       "      <td>14.76</td>\n",
       "      <td>16.665</td>\n",
       "      <td>50</td>\n",
       "      <td>16.9979</td>\n",
       "      <td>4</td>\n",
       "      <td>264</td>\n",
       "      <td>268</td>\n",
       "      <td>2012-12-18</td>\n",
       "      <td>20</td>\n",
       "      <td>Tuesday</td>\n",
       "      <td>December</td>\n",
       "    </tr>\n",
       "    <tr>\n",
       "      <th>10859</th>\n",
       "      <td>2012-12-18 21:00:00</td>\n",
       "      <td>Winter</td>\n",
       "      <td>0</td>\n",
       "      <td>1</td>\n",
       "      <td>Clear + Few clouds + Partly cloudy + Partly c...</td>\n",
       "      <td>14.76</td>\n",
       "      <td>17.425</td>\n",
       "      <td>50</td>\n",
       "      <td>15.0013</td>\n",
       "      <td>9</td>\n",
       "      <td>159</td>\n",
       "      <td>168</td>\n",
       "      <td>2012-12-18</td>\n",
       "      <td>21</td>\n",
       "      <td>Tuesday</td>\n",
       "      <td>December</td>\n",
       "    </tr>\n",
       "    <tr>\n",
       "      <th>10860</th>\n",
       "      <td>2012-12-18 22:00:00</td>\n",
       "      <td>Winter</td>\n",
       "      <td>0</td>\n",
       "      <td>1</td>\n",
       "      <td>Clear + Few clouds + Partly cloudy + Partly c...</td>\n",
       "      <td>13.94</td>\n",
       "      <td>16.665</td>\n",
       "      <td>49</td>\n",
       "      <td>0.0000</td>\n",
       "      <td>5</td>\n",
       "      <td>127</td>\n",
       "      <td>132</td>\n",
       "      <td>2012-12-18</td>\n",
       "      <td>22</td>\n",
       "      <td>Tuesday</td>\n",
       "      <td>December</td>\n",
       "    </tr>\n",
       "    <tr>\n",
       "      <th>10861</th>\n",
       "      <td>2012-12-18 23:00:00</td>\n",
       "      <td>Winter</td>\n",
       "      <td>0</td>\n",
       "      <td>1</td>\n",
       "      <td>Clear + Few clouds + Partly cloudy + Partly c...</td>\n",
       "      <td>13.94</td>\n",
       "      <td>17.425</td>\n",
       "      <td>49</td>\n",
       "      <td>6.0032</td>\n",
       "      <td>1</td>\n",
       "      <td>80</td>\n",
       "      <td>81</td>\n",
       "      <td>2012-12-18</td>\n",
       "      <td>23</td>\n",
       "      <td>Tuesday</td>\n",
       "      <td>December</td>\n",
       "    </tr>\n",
       "    <tr>\n",
       "      <th>10862</th>\n",
       "      <td>2012-12-19 00:00:00</td>\n",
       "      <td>Winter</td>\n",
       "      <td>0</td>\n",
       "      <td>1</td>\n",
       "      <td>Clear + Few clouds + Partly cloudy + Partly c...</td>\n",
       "      <td>12.30</td>\n",
       "      <td>15.910</td>\n",
       "      <td>61</td>\n",
       "      <td>0.0000</td>\n",
       "      <td>6</td>\n",
       "      <td>35</td>\n",
       "      <td>41</td>\n",
       "      <td>2012-12-19</td>\n",
       "      <td>00</td>\n",
       "      <td>Wednesday</td>\n",
       "      <td>December</td>\n",
       "    </tr>\n",
       "    <tr>\n",
       "      <th>10863</th>\n",
       "      <td>2012-12-19 01:00:00</td>\n",
       "      <td>Winter</td>\n",
       "      <td>0</td>\n",
       "      <td>1</td>\n",
       "      <td>Clear + Few clouds + Partly cloudy + Partly c...</td>\n",
       "      <td>12.30</td>\n",
       "      <td>15.910</td>\n",
       "      <td>65</td>\n",
       "      <td>6.0032</td>\n",
       "      <td>1</td>\n",
       "      <td>14</td>\n",
       "      <td>15</td>\n",
       "      <td>2012-12-19</td>\n",
       "      <td>01</td>\n",
       "      <td>Wednesday</td>\n",
       "      <td>December</td>\n",
       "    </tr>\n",
       "    <tr>\n",
       "      <th>10864</th>\n",
       "      <td>2012-12-19 02:00:00</td>\n",
       "      <td>Winter</td>\n",
       "      <td>0</td>\n",
       "      <td>1</td>\n",
       "      <td>Clear + Few clouds + Partly cloudy + Partly c...</td>\n",
       "      <td>11.48</td>\n",
       "      <td>15.150</td>\n",
       "      <td>65</td>\n",
       "      <td>6.0032</td>\n",
       "      <td>1</td>\n",
       "      <td>2</td>\n",
       "      <td>3</td>\n",
       "      <td>2012-12-19</td>\n",
       "      <td>02</td>\n",
       "      <td>Wednesday</td>\n",
       "      <td>December</td>\n",
       "    </tr>\n",
       "    <tr>\n",
       "      <th>10865</th>\n",
       "      <td>2012-12-19 03:00:00</td>\n",
       "      <td>Winter</td>\n",
       "      <td>0</td>\n",
       "      <td>1</td>\n",
       "      <td>Clear + Few clouds + Partly cloudy + Partly c...</td>\n",
       "      <td>10.66</td>\n",
       "      <td>13.635</td>\n",
       "      <td>75</td>\n",
       "      <td>8.9981</td>\n",
       "      <td>0</td>\n",
       "      <td>5</td>\n",
       "      <td>5</td>\n",
       "      <td>2012-12-19</td>\n",
       "      <td>03</td>\n",
       "      <td>Wednesday</td>\n",
       "      <td>December</td>\n",
       "    </tr>\n",
       "    <tr>\n",
       "      <th>10866</th>\n",
       "      <td>2012-12-19 04:00:00</td>\n",
       "      <td>Winter</td>\n",
       "      <td>0</td>\n",
       "      <td>1</td>\n",
       "      <td>Clear + Few clouds + Partly cloudy + Partly c...</td>\n",
       "      <td>9.84</td>\n",
       "      <td>12.120</td>\n",
       "      <td>75</td>\n",
       "      <td>8.9981</td>\n",
       "      <td>1</td>\n",
       "      <td>6</td>\n",
       "      <td>7</td>\n",
       "      <td>2012-12-19</td>\n",
       "      <td>04</td>\n",
       "      <td>Wednesday</td>\n",
       "      <td>December</td>\n",
       "    </tr>\n",
       "    <tr>\n",
       "      <th>10867</th>\n",
       "      <td>2012-12-19 05:00:00</td>\n",
       "      <td>Winter</td>\n",
       "      <td>0</td>\n",
       "      <td>1</td>\n",
       "      <td>Clear + Few clouds + Partly cloudy + Partly c...</td>\n",
       "      <td>10.66</td>\n",
       "      <td>14.395</td>\n",
       "      <td>75</td>\n",
       "      <td>6.0032</td>\n",
       "      <td>2</td>\n",
       "      <td>29</td>\n",
       "      <td>31</td>\n",
       "      <td>2012-12-19</td>\n",
       "      <td>05</td>\n",
       "      <td>Wednesday</td>\n",
       "      <td>December</td>\n",
       "    </tr>\n",
       "    <tr>\n",
       "      <th>10868</th>\n",
       "      <td>2012-12-19 06:00:00</td>\n",
       "      <td>Winter</td>\n",
       "      <td>0</td>\n",
       "      <td>1</td>\n",
       "      <td>Clear + Few clouds + Partly cloudy + Partly c...</td>\n",
       "      <td>9.84</td>\n",
       "      <td>12.880</td>\n",
       "      <td>75</td>\n",
       "      <td>6.0032</td>\n",
       "      <td>3</td>\n",
       "      <td>109</td>\n",
       "      <td>112</td>\n",
       "      <td>2012-12-19</td>\n",
       "      <td>06</td>\n",
       "      <td>Wednesday</td>\n",
       "      <td>December</td>\n",
       "    </tr>\n",
       "    <tr>\n",
       "      <th>10869</th>\n",
       "      <td>2012-12-19 07:00:00</td>\n",
       "      <td>Winter</td>\n",
       "      <td>0</td>\n",
       "      <td>1</td>\n",
       "      <td>Clear + Few clouds + Partly cloudy + Partly c...</td>\n",
       "      <td>10.66</td>\n",
       "      <td>13.635</td>\n",
       "      <td>75</td>\n",
       "      <td>8.9981</td>\n",
       "      <td>3</td>\n",
       "      <td>360</td>\n",
       "      <td>363</td>\n",
       "      <td>2012-12-19</td>\n",
       "      <td>07</td>\n",
       "      <td>Wednesday</td>\n",
       "      <td>December</td>\n",
       "    </tr>\n",
       "    <tr>\n",
       "      <th>10870</th>\n",
       "      <td>2012-12-19 08:00:00</td>\n",
       "      <td>Winter</td>\n",
       "      <td>0</td>\n",
       "      <td>1</td>\n",
       "      <td>Clear + Few clouds + Partly cloudy + Partly c...</td>\n",
       "      <td>9.84</td>\n",
       "      <td>12.880</td>\n",
       "      <td>87</td>\n",
       "      <td>7.0015</td>\n",
       "      <td>13</td>\n",
       "      <td>665</td>\n",
       "      <td>678</td>\n",
       "      <td>2012-12-19</td>\n",
       "      <td>08</td>\n",
       "      <td>Wednesday</td>\n",
       "      <td>December</td>\n",
       "    </tr>\n",
       "    <tr>\n",
       "      <th>10871</th>\n",
       "      <td>2012-12-19 09:00:00</td>\n",
       "      <td>Winter</td>\n",
       "      <td>0</td>\n",
       "      <td>1</td>\n",
       "      <td>Clear + Few clouds + Partly cloudy + Partly c...</td>\n",
       "      <td>11.48</td>\n",
       "      <td>14.395</td>\n",
       "      <td>75</td>\n",
       "      <td>7.0015</td>\n",
       "      <td>8</td>\n",
       "      <td>309</td>\n",
       "      <td>317</td>\n",
       "      <td>2012-12-19</td>\n",
       "      <td>09</td>\n",
       "      <td>Wednesday</td>\n",
       "      <td>December</td>\n",
       "    </tr>\n",
       "    <tr>\n",
       "      <th>10872</th>\n",
       "      <td>2012-12-19 10:00:00</td>\n",
       "      <td>Winter</td>\n",
       "      <td>0</td>\n",
       "      <td>1</td>\n",
       "      <td>Clear + Few clouds + Partly cloudy + Partly c...</td>\n",
       "      <td>13.12</td>\n",
       "      <td>16.665</td>\n",
       "      <td>70</td>\n",
       "      <td>7.0015</td>\n",
       "      <td>17</td>\n",
       "      <td>147</td>\n",
       "      <td>164</td>\n",
       "      <td>2012-12-19</td>\n",
       "      <td>10</td>\n",
       "      <td>Wednesday</td>\n",
       "      <td>December</td>\n",
       "    </tr>\n",
       "    <tr>\n",
       "      <th>10873</th>\n",
       "      <td>2012-12-19 11:00:00</td>\n",
       "      <td>Winter</td>\n",
       "      <td>0</td>\n",
       "      <td>1</td>\n",
       "      <td>Clear + Few clouds + Partly cloudy + Partly c...</td>\n",
       "      <td>16.40</td>\n",
       "      <td>20.455</td>\n",
       "      <td>54</td>\n",
       "      <td>15.0013</td>\n",
       "      <td>31</td>\n",
       "      <td>169</td>\n",
       "      <td>200</td>\n",
       "      <td>2012-12-19</td>\n",
       "      <td>11</td>\n",
       "      <td>Wednesday</td>\n",
       "      <td>December</td>\n",
       "    </tr>\n",
       "    <tr>\n",
       "      <th>10874</th>\n",
       "      <td>2012-12-19 12:00:00</td>\n",
       "      <td>Winter</td>\n",
       "      <td>0</td>\n",
       "      <td>1</td>\n",
       "      <td>Clear + Few clouds + Partly cloudy + Partly c...</td>\n",
       "      <td>16.40</td>\n",
       "      <td>20.455</td>\n",
       "      <td>54</td>\n",
       "      <td>19.0012</td>\n",
       "      <td>33</td>\n",
       "      <td>203</td>\n",
       "      <td>236</td>\n",
       "      <td>2012-12-19</td>\n",
       "      <td>12</td>\n",
       "      <td>Wednesday</td>\n",
       "      <td>December</td>\n",
       "    </tr>\n",
       "    <tr>\n",
       "      <th>10875</th>\n",
       "      <td>2012-12-19 13:00:00</td>\n",
       "      <td>Winter</td>\n",
       "      <td>0</td>\n",
       "      <td>1</td>\n",
       "      <td>Clear + Few clouds + Partly cloudy + Partly c...</td>\n",
       "      <td>17.22</td>\n",
       "      <td>21.210</td>\n",
       "      <td>50</td>\n",
       "      <td>12.9980</td>\n",
       "      <td>30</td>\n",
       "      <td>183</td>\n",
       "      <td>213</td>\n",
       "      <td>2012-12-19</td>\n",
       "      <td>13</td>\n",
       "      <td>Wednesday</td>\n",
       "      <td>December</td>\n",
       "    </tr>\n",
       "    <tr>\n",
       "      <th>10876</th>\n",
       "      <td>2012-12-19 14:00:00</td>\n",
       "      <td>Winter</td>\n",
       "      <td>0</td>\n",
       "      <td>1</td>\n",
       "      <td>Clear + Few clouds + Partly cloudy + Partly c...</td>\n",
       "      <td>17.22</td>\n",
       "      <td>21.210</td>\n",
       "      <td>50</td>\n",
       "      <td>12.9980</td>\n",
       "      <td>33</td>\n",
       "      <td>185</td>\n",
       "      <td>218</td>\n",
       "      <td>2012-12-19</td>\n",
       "      <td>14</td>\n",
       "      <td>Wednesday</td>\n",
       "      <td>December</td>\n",
       "    </tr>\n",
       "    <tr>\n",
       "      <th>10877</th>\n",
       "      <td>2012-12-19 15:00:00</td>\n",
       "      <td>Winter</td>\n",
       "      <td>0</td>\n",
       "      <td>1</td>\n",
       "      <td>Clear + Few clouds + Partly cloudy + Partly c...</td>\n",
       "      <td>17.22</td>\n",
       "      <td>21.210</td>\n",
       "      <td>50</td>\n",
       "      <td>19.0012</td>\n",
       "      <td>28</td>\n",
       "      <td>209</td>\n",
       "      <td>237</td>\n",
       "      <td>2012-12-19</td>\n",
       "      <td>15</td>\n",
       "      <td>Wednesday</td>\n",
       "      <td>December</td>\n",
       "    </tr>\n",
       "    <tr>\n",
       "      <th>10878</th>\n",
       "      <td>2012-12-19 16:00:00</td>\n",
       "      <td>Winter</td>\n",
       "      <td>0</td>\n",
       "      <td>1</td>\n",
       "      <td>Clear + Few clouds + Partly cloudy + Partly c...</td>\n",
       "      <td>17.22</td>\n",
       "      <td>21.210</td>\n",
       "      <td>50</td>\n",
       "      <td>23.9994</td>\n",
       "      <td>37</td>\n",
       "      <td>297</td>\n",
       "      <td>334</td>\n",
       "      <td>2012-12-19</td>\n",
       "      <td>16</td>\n",
       "      <td>Wednesday</td>\n",
       "      <td>December</td>\n",
       "    </tr>\n",
       "    <tr>\n",
       "      <th>10879</th>\n",
       "      <td>2012-12-19 17:00:00</td>\n",
       "      <td>Winter</td>\n",
       "      <td>0</td>\n",
       "      <td>1</td>\n",
       "      <td>Clear + Few clouds + Partly cloudy + Partly c...</td>\n",
       "      <td>16.40</td>\n",
       "      <td>20.455</td>\n",
       "      <td>50</td>\n",
       "      <td>26.0027</td>\n",
       "      <td>26</td>\n",
       "      <td>536</td>\n",
       "      <td>562</td>\n",
       "      <td>2012-12-19</td>\n",
       "      <td>17</td>\n",
       "      <td>Wednesday</td>\n",
       "      <td>December</td>\n",
       "    </tr>\n",
       "    <tr>\n",
       "      <th>10880</th>\n",
       "      <td>2012-12-19 18:00:00</td>\n",
       "      <td>Winter</td>\n",
       "      <td>0</td>\n",
       "      <td>1</td>\n",
       "      <td>Clear + Few clouds + Partly cloudy + Partly c...</td>\n",
       "      <td>15.58</td>\n",
       "      <td>19.695</td>\n",
       "      <td>50</td>\n",
       "      <td>23.9994</td>\n",
       "      <td>23</td>\n",
       "      <td>546</td>\n",
       "      <td>569</td>\n",
       "      <td>2012-12-19</td>\n",
       "      <td>18</td>\n",
       "      <td>Wednesday</td>\n",
       "      <td>December</td>\n",
       "    </tr>\n",
       "    <tr>\n",
       "      <th>10881</th>\n",
       "      <td>2012-12-19 19:00:00</td>\n",
       "      <td>Winter</td>\n",
       "      <td>0</td>\n",
       "      <td>1</td>\n",
       "      <td>Clear + Few clouds + Partly cloudy + Partly c...</td>\n",
       "      <td>15.58</td>\n",
       "      <td>19.695</td>\n",
       "      <td>50</td>\n",
       "      <td>26.0027</td>\n",
       "      <td>7</td>\n",
       "      <td>329</td>\n",
       "      <td>336</td>\n",
       "      <td>2012-12-19</td>\n",
       "      <td>19</td>\n",
       "      <td>Wednesday</td>\n",
       "      <td>December</td>\n",
       "    </tr>\n",
       "    <tr>\n",
       "      <th>10882</th>\n",
       "      <td>2012-12-19 20:00:00</td>\n",
       "      <td>Winter</td>\n",
       "      <td>0</td>\n",
       "      <td>1</td>\n",
       "      <td>Clear + Few clouds + Partly cloudy + Partly c...</td>\n",
       "      <td>14.76</td>\n",
       "      <td>17.425</td>\n",
       "      <td>57</td>\n",
       "      <td>15.0013</td>\n",
       "      <td>10</td>\n",
       "      <td>231</td>\n",
       "      <td>241</td>\n",
       "      <td>2012-12-19</td>\n",
       "      <td>20</td>\n",
       "      <td>Wednesday</td>\n",
       "      <td>December</td>\n",
       "    </tr>\n",
       "    <tr>\n",
       "      <th>10883</th>\n",
       "      <td>2012-12-19 21:00:00</td>\n",
       "      <td>Winter</td>\n",
       "      <td>0</td>\n",
       "      <td>1</td>\n",
       "      <td>Clear + Few clouds + Partly cloudy + Partly c...</td>\n",
       "      <td>13.94</td>\n",
       "      <td>15.910</td>\n",
       "      <td>61</td>\n",
       "      <td>15.0013</td>\n",
       "      <td>4</td>\n",
       "      <td>164</td>\n",
       "      <td>168</td>\n",
       "      <td>2012-12-19</td>\n",
       "      <td>21</td>\n",
       "      <td>Wednesday</td>\n",
       "      <td>December</td>\n",
       "    </tr>\n",
       "    <tr>\n",
       "      <th>10884</th>\n",
       "      <td>2012-12-19 22:00:00</td>\n",
       "      <td>Winter</td>\n",
       "      <td>0</td>\n",
       "      <td>1</td>\n",
       "      <td>Clear + Few clouds + Partly cloudy + Partly c...</td>\n",
       "      <td>13.94</td>\n",
       "      <td>17.425</td>\n",
       "      <td>61</td>\n",
       "      <td>6.0032</td>\n",
       "      <td>12</td>\n",
       "      <td>117</td>\n",
       "      <td>129</td>\n",
       "      <td>2012-12-19</td>\n",
       "      <td>22</td>\n",
       "      <td>Wednesday</td>\n",
       "      <td>December</td>\n",
       "    </tr>\n",
       "    <tr>\n",
       "      <th>10885</th>\n",
       "      <td>2012-12-19 23:00:00</td>\n",
       "      <td>Winter</td>\n",
       "      <td>0</td>\n",
       "      <td>1</td>\n",
       "      <td>Clear + Few clouds + Partly cloudy + Partly c...</td>\n",
       "      <td>13.12</td>\n",
       "      <td>16.665</td>\n",
       "      <td>66</td>\n",
       "      <td>8.9981</td>\n",
       "      <td>4</td>\n",
       "      <td>84</td>\n",
       "      <td>88</td>\n",
       "      <td>2012-12-19</td>\n",
       "      <td>23</td>\n",
       "      <td>Wednesday</td>\n",
       "      <td>December</td>\n",
       "    </tr>\n",
       "  </tbody>\n",
       "</table>\n",
       "<p>10886 rows × 16 columns</p>\n",
       "</div>"
      ],
      "text/plain": [
       "                  datetime  season  holiday  workingday  \\\n",
       "0      2011-01-01 00:00:00  Spring        0           0   \n",
       "1      2011-01-01 01:00:00  Spring        0           0   \n",
       "2      2011-01-01 02:00:00  Spring        0           0   \n",
       "3      2011-01-01 03:00:00  Spring        0           0   \n",
       "4      2011-01-01 04:00:00  Spring        0           0   \n",
       "5      2011-01-01 05:00:00  Spring        0           0   \n",
       "6      2011-01-01 06:00:00  Spring        0           0   \n",
       "7      2011-01-01 07:00:00  Spring        0           0   \n",
       "8      2011-01-01 08:00:00  Spring        0           0   \n",
       "9      2011-01-01 09:00:00  Spring        0           0   \n",
       "10     2011-01-01 10:00:00  Spring        0           0   \n",
       "11     2011-01-01 11:00:00  Spring        0           0   \n",
       "12     2011-01-01 12:00:00  Spring        0           0   \n",
       "13     2011-01-01 13:00:00  Spring        0           0   \n",
       "14     2011-01-01 14:00:00  Spring        0           0   \n",
       "15     2011-01-01 15:00:00  Spring        0           0   \n",
       "16     2011-01-01 16:00:00  Spring        0           0   \n",
       "17     2011-01-01 17:00:00  Spring        0           0   \n",
       "18     2011-01-01 18:00:00  Spring        0           0   \n",
       "19     2011-01-01 19:00:00  Spring        0           0   \n",
       "20     2011-01-01 20:00:00  Spring        0           0   \n",
       "21     2011-01-01 21:00:00  Spring        0           0   \n",
       "22     2011-01-01 22:00:00  Spring        0           0   \n",
       "23     2011-01-01 23:00:00  Spring        0           0   \n",
       "24     2011-01-02 00:00:00  Spring        0           0   \n",
       "25     2011-01-02 01:00:00  Spring        0           0   \n",
       "26     2011-01-02 02:00:00  Spring        0           0   \n",
       "27     2011-01-02 03:00:00  Spring        0           0   \n",
       "28     2011-01-02 04:00:00  Spring        0           0   \n",
       "29     2011-01-02 06:00:00  Spring        0           0   \n",
       "...                    ...     ...      ...         ...   \n",
       "10856  2012-12-18 18:00:00  Winter        0           1   \n",
       "10857  2012-12-18 19:00:00  Winter        0           1   \n",
       "10858  2012-12-18 20:00:00  Winter        0           1   \n",
       "10859  2012-12-18 21:00:00  Winter        0           1   \n",
       "10860  2012-12-18 22:00:00  Winter        0           1   \n",
       "10861  2012-12-18 23:00:00  Winter        0           1   \n",
       "10862  2012-12-19 00:00:00  Winter        0           1   \n",
       "10863  2012-12-19 01:00:00  Winter        0           1   \n",
       "10864  2012-12-19 02:00:00  Winter        0           1   \n",
       "10865  2012-12-19 03:00:00  Winter        0           1   \n",
       "10866  2012-12-19 04:00:00  Winter        0           1   \n",
       "10867  2012-12-19 05:00:00  Winter        0           1   \n",
       "10868  2012-12-19 06:00:00  Winter        0           1   \n",
       "10869  2012-12-19 07:00:00  Winter        0           1   \n",
       "10870  2012-12-19 08:00:00  Winter        0           1   \n",
       "10871  2012-12-19 09:00:00  Winter        0           1   \n",
       "10872  2012-12-19 10:00:00  Winter        0           1   \n",
       "10873  2012-12-19 11:00:00  Winter        0           1   \n",
       "10874  2012-12-19 12:00:00  Winter        0           1   \n",
       "10875  2012-12-19 13:00:00  Winter        0           1   \n",
       "10876  2012-12-19 14:00:00  Winter        0           1   \n",
       "10877  2012-12-19 15:00:00  Winter        0           1   \n",
       "10878  2012-12-19 16:00:00  Winter        0           1   \n",
       "10879  2012-12-19 17:00:00  Winter        0           1   \n",
       "10880  2012-12-19 18:00:00  Winter        0           1   \n",
       "10881  2012-12-19 19:00:00  Winter        0           1   \n",
       "10882  2012-12-19 20:00:00  Winter        0           1   \n",
       "10883  2012-12-19 21:00:00  Winter        0           1   \n",
       "10884  2012-12-19 22:00:00  Winter        0           1   \n",
       "10885  2012-12-19 23:00:00  Winter        0           1   \n",
       "\n",
       "                                                 weather   temp   atemp  \\\n",
       "0       Clear + Few clouds + Partly cloudy + Partly c...   9.84  14.395   \n",
       "1       Clear + Few clouds + Partly cloudy + Partly c...   9.02  13.635   \n",
       "2       Clear + Few clouds + Partly cloudy + Partly c...   9.02  13.635   \n",
       "3       Clear + Few clouds + Partly cloudy + Partly c...   9.84  14.395   \n",
       "4       Clear + Few clouds + Partly cloudy + Partly c...   9.84  14.395   \n",
       "5       Mist + Cloudy, Mist + Broken clouds, Mist + F...   9.84  12.880   \n",
       "6       Clear + Few clouds + Partly cloudy + Partly c...   9.02  13.635   \n",
       "7       Clear + Few clouds + Partly cloudy + Partly c...   8.20  12.880   \n",
       "8       Clear + Few clouds + Partly cloudy + Partly c...   9.84  14.395   \n",
       "9       Clear + Few clouds + Partly cloudy + Partly c...  13.12  17.425   \n",
       "10      Clear + Few clouds + Partly cloudy + Partly c...  15.58  19.695   \n",
       "11      Clear + Few clouds + Partly cloudy + Partly c...  14.76  16.665   \n",
       "12      Clear + Few clouds + Partly cloudy + Partly c...  17.22  21.210   \n",
       "13      Mist + Cloudy, Mist + Broken clouds, Mist + F...  18.86  22.725   \n",
       "14      Mist + Cloudy, Mist + Broken clouds, Mist + F...  18.86  22.725   \n",
       "15      Mist + Cloudy, Mist + Broken clouds, Mist + F...  18.04  21.970   \n",
       "16      Mist + Cloudy, Mist + Broken clouds, Mist + F...  17.22  21.210   \n",
       "17      Mist + Cloudy, Mist + Broken clouds, Mist + F...  18.04  21.970   \n",
       "18      Light Snow, Light Rain + Thunderstorm + Scatt...  17.22  21.210   \n",
       "19      Light Snow, Light Rain + Thunderstorm + Scatt...  17.22  21.210   \n",
       "20      Mist + Cloudy, Mist + Broken clouds, Mist + F...  16.40  20.455   \n",
       "21      Mist + Cloudy, Mist + Broken clouds, Mist + F...  16.40  20.455   \n",
       "22      Mist + Cloudy, Mist + Broken clouds, Mist + F...  16.40  20.455   \n",
       "23      Mist + Cloudy, Mist + Broken clouds, Mist + F...  18.86  22.725   \n",
       "24      Mist + Cloudy, Mist + Broken clouds, Mist + F...  18.86  22.725   \n",
       "25      Mist + Cloudy, Mist + Broken clouds, Mist + F...  18.04  21.970   \n",
       "26      Mist + Cloudy, Mist + Broken clouds, Mist + F...  17.22  21.210   \n",
       "27      Mist + Cloudy, Mist + Broken clouds, Mist + F...  18.86  22.725   \n",
       "28      Mist + Cloudy, Mist + Broken clouds, Mist + F...  18.86  22.725   \n",
       "29      Light Snow, Light Rain + Thunderstorm + Scatt...  17.22  21.210   \n",
       "...                                                  ...    ...     ...   \n",
       "10856   Clear + Few clouds + Partly cloudy + Partly c...  15.58  19.695   \n",
       "10857   Clear + Few clouds + Partly cloudy + Partly c...  15.58  19.695   \n",
       "10858   Clear + Few clouds + Partly cloudy + Partly c...  14.76  16.665   \n",
       "10859   Clear + Few clouds + Partly cloudy + Partly c...  14.76  17.425   \n",
       "10860   Clear + Few clouds + Partly cloudy + Partly c...  13.94  16.665   \n",
       "10861   Clear + Few clouds + Partly cloudy + Partly c...  13.94  17.425   \n",
       "10862   Clear + Few clouds + Partly cloudy + Partly c...  12.30  15.910   \n",
       "10863   Clear + Few clouds + Partly cloudy + Partly c...  12.30  15.910   \n",
       "10864   Clear + Few clouds + Partly cloudy + Partly c...  11.48  15.150   \n",
       "10865   Clear + Few clouds + Partly cloudy + Partly c...  10.66  13.635   \n",
       "10866   Clear + Few clouds + Partly cloudy + Partly c...   9.84  12.120   \n",
       "10867   Clear + Few clouds + Partly cloudy + Partly c...  10.66  14.395   \n",
       "10868   Clear + Few clouds + Partly cloudy + Partly c...   9.84  12.880   \n",
       "10869   Clear + Few clouds + Partly cloudy + Partly c...  10.66  13.635   \n",
       "10870   Clear + Few clouds + Partly cloudy + Partly c...   9.84  12.880   \n",
       "10871   Clear + Few clouds + Partly cloudy + Partly c...  11.48  14.395   \n",
       "10872   Clear + Few clouds + Partly cloudy + Partly c...  13.12  16.665   \n",
       "10873   Clear + Few clouds + Partly cloudy + Partly c...  16.40  20.455   \n",
       "10874   Clear + Few clouds + Partly cloudy + Partly c...  16.40  20.455   \n",
       "10875   Clear + Few clouds + Partly cloudy + Partly c...  17.22  21.210   \n",
       "10876   Clear + Few clouds + Partly cloudy + Partly c...  17.22  21.210   \n",
       "10877   Clear + Few clouds + Partly cloudy + Partly c...  17.22  21.210   \n",
       "10878   Clear + Few clouds + Partly cloudy + Partly c...  17.22  21.210   \n",
       "10879   Clear + Few clouds + Partly cloudy + Partly c...  16.40  20.455   \n",
       "10880   Clear + Few clouds + Partly cloudy + Partly c...  15.58  19.695   \n",
       "10881   Clear + Few clouds + Partly cloudy + Partly c...  15.58  19.695   \n",
       "10882   Clear + Few clouds + Partly cloudy + Partly c...  14.76  17.425   \n",
       "10883   Clear + Few clouds + Partly cloudy + Partly c...  13.94  15.910   \n",
       "10884   Clear + Few clouds + Partly cloudy + Partly c...  13.94  17.425   \n",
       "10885   Clear + Few clouds + Partly cloudy + Partly c...  13.12  16.665   \n",
       "\n",
       "       humidity  windspeed  casual  registered  count        date time  \\\n",
       "0            81     0.0000       3          13     16  2011-01-01   00   \n",
       "1            80     0.0000       8          32     40  2011-01-01   01   \n",
       "2            80     0.0000       5          27     32  2011-01-01   02   \n",
       "3            75     0.0000       3          10     13  2011-01-01   03   \n",
       "4            75     0.0000       0           1      1  2011-01-01   04   \n",
       "5            75     6.0032       0           1      1  2011-01-01   05   \n",
       "6            80     0.0000       2           0      2  2011-01-01   06   \n",
       "7            86     0.0000       1           2      3  2011-01-01   07   \n",
       "8            75     0.0000       1           7      8  2011-01-01   08   \n",
       "9            76     0.0000       8           6     14  2011-01-01   09   \n",
       "10           76    16.9979      12          24     36  2011-01-01   10   \n",
       "11           81    19.0012      26          30     56  2011-01-01   11   \n",
       "12           77    19.0012      29          55     84  2011-01-01   12   \n",
       "13           72    19.9995      47          47     94  2011-01-01   13   \n",
       "14           72    19.0012      35          71    106  2011-01-01   14   \n",
       "15           77    19.9995      40          70    110  2011-01-01   15   \n",
       "16           82    19.9995      41          52     93  2011-01-01   16   \n",
       "17           82    19.0012      15          52     67  2011-01-01   17   \n",
       "18           88    16.9979       9          26     35  2011-01-01   18   \n",
       "19           88    16.9979       6          31     37  2011-01-01   19   \n",
       "20           87    16.9979      11          25     36  2011-01-01   20   \n",
       "21           87    12.9980       3          31     34  2011-01-01   21   \n",
       "22           94    15.0013      11          17     28  2011-01-01   22   \n",
       "23           88    19.9995      15          24     39  2011-01-01   23   \n",
       "24           88    19.9995       4          13     17  2011-01-02   00   \n",
       "25           94    16.9979       1          16     17  2011-01-02   01   \n",
       "26          100    19.0012       1           8      9  2011-01-02   02   \n",
       "27           94    12.9980       2           4      6  2011-01-02   03   \n",
       "28           94    12.9980       2           1      3  2011-01-02   04   \n",
       "29           77    19.9995       0           2      2  2011-01-02   06   \n",
       "...         ...        ...     ...         ...    ...         ...  ...   \n",
       "10856        46    22.0028      13         512    525  2012-12-18   18   \n",
       "10857        46    26.0027      19         334    353  2012-12-18   19   \n",
       "10858        50    16.9979       4         264    268  2012-12-18   20   \n",
       "10859        50    15.0013       9         159    168  2012-12-18   21   \n",
       "10860        49     0.0000       5         127    132  2012-12-18   22   \n",
       "10861        49     6.0032       1          80     81  2012-12-18   23   \n",
       "10862        61     0.0000       6          35     41  2012-12-19   00   \n",
       "10863        65     6.0032       1          14     15  2012-12-19   01   \n",
       "10864        65     6.0032       1           2      3  2012-12-19   02   \n",
       "10865        75     8.9981       0           5      5  2012-12-19   03   \n",
       "10866        75     8.9981       1           6      7  2012-12-19   04   \n",
       "10867        75     6.0032       2          29     31  2012-12-19   05   \n",
       "10868        75     6.0032       3         109    112  2012-12-19   06   \n",
       "10869        75     8.9981       3         360    363  2012-12-19   07   \n",
       "10870        87     7.0015      13         665    678  2012-12-19   08   \n",
       "10871        75     7.0015       8         309    317  2012-12-19   09   \n",
       "10872        70     7.0015      17         147    164  2012-12-19   10   \n",
       "10873        54    15.0013      31         169    200  2012-12-19   11   \n",
       "10874        54    19.0012      33         203    236  2012-12-19   12   \n",
       "10875        50    12.9980      30         183    213  2012-12-19   13   \n",
       "10876        50    12.9980      33         185    218  2012-12-19   14   \n",
       "10877        50    19.0012      28         209    237  2012-12-19   15   \n",
       "10878        50    23.9994      37         297    334  2012-12-19   16   \n",
       "10879        50    26.0027      26         536    562  2012-12-19   17   \n",
       "10880        50    23.9994      23         546    569  2012-12-19   18   \n",
       "10881        50    26.0027       7         329    336  2012-12-19   19   \n",
       "10882        57    15.0013      10         231    241  2012-12-19   20   \n",
       "10883        61    15.0013       4         164    168  2012-12-19   21   \n",
       "10884        61     6.0032      12         117    129  2012-12-19   22   \n",
       "10885        66     8.9981       4          84     88  2012-12-19   23   \n",
       "\n",
       "         weekday     month  \n",
       "0       Saturday   January  \n",
       "1       Saturday   January  \n",
       "2       Saturday   January  \n",
       "3       Saturday   January  \n",
       "4       Saturday   January  \n",
       "5       Saturday   January  \n",
       "6       Saturday   January  \n",
       "7       Saturday   January  \n",
       "8       Saturday   January  \n",
       "9       Saturday   January  \n",
       "10      Saturday   January  \n",
       "11      Saturday   January  \n",
       "12      Saturday   January  \n",
       "13      Saturday   January  \n",
       "14      Saturday   January  \n",
       "15      Saturday   January  \n",
       "16      Saturday   January  \n",
       "17      Saturday   January  \n",
       "18      Saturday   January  \n",
       "19      Saturday   January  \n",
       "20      Saturday   January  \n",
       "21      Saturday   January  \n",
       "22      Saturday   January  \n",
       "23      Saturday   January  \n",
       "24        Sunday   January  \n",
       "25        Sunday   January  \n",
       "26        Sunday   January  \n",
       "27        Sunday   January  \n",
       "28        Sunday   January  \n",
       "29        Sunday   January  \n",
       "...          ...       ...  \n",
       "10856    Tuesday  December  \n",
       "10857    Tuesday  December  \n",
       "10858    Tuesday  December  \n",
       "10859    Tuesday  December  \n",
       "10860    Tuesday  December  \n",
       "10861    Tuesday  December  \n",
       "10862  Wednesday  December  \n",
       "10863  Wednesday  December  \n",
       "10864  Wednesday  December  \n",
       "10865  Wednesday  December  \n",
       "10866  Wednesday  December  \n",
       "10867  Wednesday  December  \n",
       "10868  Wednesday  December  \n",
       "10869  Wednesday  December  \n",
       "10870  Wednesday  December  \n",
       "10871  Wednesday  December  \n",
       "10872  Wednesday  December  \n",
       "10873  Wednesday  December  \n",
       "10874  Wednesday  December  \n",
       "10875  Wednesday  December  \n",
       "10876  Wednesday  December  \n",
       "10877  Wednesday  December  \n",
       "10878  Wednesday  December  \n",
       "10879  Wednesday  December  \n",
       "10880  Wednesday  December  \n",
       "10881  Wednesday  December  \n",
       "10882  Wednesday  December  \n",
       "10883  Wednesday  December  \n",
       "10884  Wednesday  December  \n",
       "10885  Wednesday  December  \n",
       "\n",
       "[10886 rows x 16 columns]"
      ]
     },
     "execution_count": 78,
     "metadata": {},
     "output_type": "execute_result"
    }
   ],
   "source": [
    "import calendar\n",
    "from datetime import datetime\n",
    "data[[\"date\",\"time\"]] = data[\"datetime\"].str.split(\" \", expand=True)\n",
    "data[\"time\"] = data[\"time\"].str.split(\":\",expand=True)[0] \n",
    "data[\"weekday\"] = data.date.apply(lambda dateString : calendar.day_name[datetime.strptime(dateString,\"%Y-%m-%d\").weekday()])\n",
    "data[\"month\"] = data.date.apply(lambda dateString : calendar.month_name[datetime.strptime(dateString, \"%Y-%m-%d\").month])\n",
    "data[\"season\"] = data.season.map({1 : \"Spring\", 2 : \"Summer\", 3 : \"Fall\", 4: \"Winter\"})\n",
    "data[\"weather\"] = data.weather.map({1: \" Clear + Few clouds + Partly cloudy + Partly cloudy\",\\\n",
    "                                    2 : \" Mist + Cloudy, Mist + Broken clouds, Mist + Few clouds, Mist \",\\\n",
    "                                    3 : \" Light Snow, Light Rain + Thunderstorm + Scattered clouds, Light Rain + Scattered clouds\",\\\n",
    "                                    4 :\" Heavy Rain + Ice Pallets + Thunderstorm + Mist, Snow + Fog \" })\n",
    "\n",
    "data"
   ]
  },
  {
   "cell_type": "code",
   "execution_count": 79,
   "metadata": {},
   "outputs": [],
   "source": [
    "data = data.drop([\"datetime\"],axis=1)"
   ]
  },
  {
   "cell_type": "code",
   "execution_count": 80,
   "metadata": {},
   "outputs": [
    {
     "data": {
      "text/plain": [
       "season        category\n",
       "holiday       category\n",
       "workingday    category\n",
       "weather       category\n",
       "temp           float64\n",
       "atemp          float64\n",
       "humidity         int64\n",
       "windspeed      float64\n",
       "casual           int64\n",
       "registered       int64\n",
       "count            int64\n",
       "date            object\n",
       "time          category\n",
       "weekday       category\n",
       "month         category\n",
       "dtype: object"
      ]
     },
     "execution_count": 80,
     "metadata": {},
     "output_type": "execute_result"
    }
   ],
   "source": [
    "data[\"time\"] = data[\"time\"].astype(\"category\")\n",
    "data[\"weekday\"] = data[\"weekday\"].astype(\"category\")\n",
    "data[\"month\"] = data[\"month\"].astype(\"category\")\n",
    "data[\"season\"] = data[\"season\"].astype(\"category\")\n",
    "data[\"weather\"] = data[\"weather\"].astype(\"category\")\n",
    "data[\"holiday\"] = data[\"holiday\"].astype(\"category\")\n",
    "data[\"workingday\"] = data[\"workingday\"].astype(\"category\")\n",
    "data.dtypes\n",
    "\n"
   ]
  },
  {
   "cell_type": "code",
   "execution_count": 81,
   "metadata": {},
   "outputs": [],
   "source": [
    "import numpy as np \n",
    "dp = data.dtypes\n",
    "dataTypeDf = pd.DataFrame(data.dtypes.value_counts()).reset_index().rename(columns={\"index\":\"variableType\",0:\"count\"})"
   ]
  },
  {
   "cell_type": "code",
   "execution_count": 82,
   "metadata": {},
   "outputs": [
    {
     "data": {
      "text/plain": [
       "int64       4\n",
       "float64     3\n",
       "category    2\n",
       "object      1\n",
       "category    1\n",
       "category    1\n",
       "category    1\n",
       "category    1\n",
       "category    1\n",
       "dtype: int64"
      ]
     },
     "execution_count": 82,
     "metadata": {},
     "output_type": "execute_result"
    }
   ],
   "source": [
    "data.dtypes.value_counts()"
   ]
  },
  {
   "cell_type": "code",
   "execution_count": 83,
   "metadata": {},
   "outputs": [
    {
     "data": {
      "text/plain": [
       "<matplotlib.axes._subplots.AxesSubplot at 0x7fc8c4fa3590>"
      ]
     },
     "execution_count": 83,
     "metadata": {},
     "output_type": "execute_result"
    },
    {
     "data": {
      "image/png": "[encoded data removed]",
      "text/plain": [
       "<Figure size 432x288 with 1 Axes>"
      ]
     },
     "metadata": {
      "needs_background": "light"
     },
     "output_type": "display_data"
    }
   ],
   "source": [
    "dataTypeDf.plot(x ='variableType', y='count', kind = 'bar')\t\n"
   ]
  },
  {
   "cell_type": "markdown",
   "metadata": {},
   "source": [
    "# Testing Missing Value"
   ]
  },
  {
   "cell_type": "code",
   "execution_count": 84,
   "metadata": {},
   "outputs": [],
   "source": [
    "import seaborn as sns\n",
    "import matplotlib.pyplot as plt"
   ]
  },
  {
   "cell_type": "code",
   "execution_count": 85,
   "metadata": {},
   "outputs": [
    {
     "data": {
      "text/plain": [
       "<matplotlib.axes._subplots.AxesSubplot at 0x7fc8c4fa8690>"
      ]
     },
     "execution_count": 85,
     "metadata": {},
     "output_type": "execute_result"
    },
    {
     "data": {
      "image/png": "[encoded data removed]",
      "text/plain": [
       "<Figure size 432x288 with 1 Axes>"
      ]
     },
     "metadata": {
      "needs_background": "light"
     },
     "output_type": "display_data"
    }
   ],
   "source": [
    "sns.heatmap(data.isnull(), cbar=False)"
   ]
  },
  {
   "cell_type": "markdown",
   "metadata": {},
   "source": [
    "### No Missing value found in the dataset"
   ]
  },
  {
   "cell_type": "markdown",
   "metadata": {},
   "source": [
    "# Testing for Skewness"
   ]
  },
  {
   "cell_type": "code",
   "execution_count": 86,
   "metadata": {},
   "outputs": [
    {
     "data": {
      "text/plain": [
       "temp          0.003691\n",
       "atemp        -0.102560\n",
       "humidity     -0.086335\n",
       "windspeed     0.588767\n",
       "casual        2.495748\n",
       "registered    1.524805\n",
       "count         1.242066\n",
       "dtype: float64"
      ]
     },
     "execution_count": 86,
     "metadata": {},
     "output_type": "execute_result"
    }
   ],
   "source": [
    "data.skew(axis=0)"
   ]
  },
  {
   "cell_type": "code",
   "execution_count": 87,
   "metadata": {},
   "outputs": [
    {
     "data": {
      "text/plain": [
       "<bound method DataFrame.info of        season holiday workingday  \\\n",
       "0      Spring       0          0   \n",
       "1      Spring       0          0   \n",
       "2      Spring       0          0   \n",
       "3      Spring       0          0   \n",
       "4      Spring       0          0   \n",
       "5      Spring       0          0   \n",
       "6      Spring       0          0   \n",
       "7      Spring       0          0   \n",
       "8      Spring       0          0   \n",
       "9      Spring       0          0   \n",
       "10     Spring       0          0   \n",
       "11     Spring       0          0   \n",
       "12     Spring       0          0   \n",
       "13     Spring       0          0   \n",
       "14     Spring       0          0   \n",
       "15     Spring       0          0   \n",
       "16     Spring       0          0   \n",
       "17     Spring       0          0   \n",
       "18     Spring       0          0   \n",
       "19     Spring       0          0   \n",
       "20     Spring       0          0   \n",
       "21     Spring       0          0   \n",
       "22     Spring       0          0   \n",
       "23     Spring       0          0   \n",
       "24     Spring       0          0   \n",
       "25     Spring       0          0   \n",
       "26     Spring       0          0   \n",
       "27     Spring       0          0   \n",
       "28     Spring       0          0   \n",
       "29     Spring       0          0   \n",
       "...       ...     ...        ...   \n",
       "10856  Winter       0          1   \n",
       "10857  Winter       0          1   \n",
       "10858  Winter       0          1   \n",
       "10859  Winter       0          1   \n",
       "10860  Winter       0          1   \n",
       "10861  Winter       0          1   \n",
       "10862  Winter       0          1   \n",
       "10863  Winter       0          1   \n",
       "10864  Winter       0          1   \n",
       "10865  Winter       0          1   \n",
       "10866  Winter       0          1   \n",
       "10867  Winter       0          1   \n",
       "10868  Winter       0          1   \n",
       "10869  Winter       0          1   \n",
       "10870  Winter       0          1   \n",
       "10871  Winter       0          1   \n",
       "10872  Winter       0          1   \n",
       "10873  Winter       0          1   \n",
       "10874  Winter       0          1   \n",
       "10875  Winter       0          1   \n",
       "10876  Winter       0          1   \n",
       "10877  Winter       0          1   \n",
       "10878  Winter       0          1   \n",
       "10879  Winter       0          1   \n",
       "10880  Winter       0          1   \n",
       "10881  Winter       0          1   \n",
       "10882  Winter       0          1   \n",
       "10883  Winter       0          1   \n",
       "10884  Winter       0          1   \n",
       "10885  Winter       0          1   \n",
       "\n",
       "                                                 weather   temp   atemp  \\\n",
       "0       Clear + Few clouds + Partly cloudy + Partly c...   9.84  14.395   \n",
       "1       Clear + Few clouds + Partly cloudy + Partly c...   9.02  13.635   \n",
       "2       Clear + Few clouds + Partly cloudy + Partly c...   9.02  13.635   \n",
       "3       Clear + Few clouds + Partly cloudy + Partly c...   9.84  14.395   \n",
       "4       Clear + Few clouds + Partly cloudy + Partly c...   9.84  14.395   \n",
       "5       Mist + Cloudy, Mist + Broken clouds, Mist + F...   9.84  12.880   \n",
       "6       Clear + Few clouds + Partly cloudy + Partly c...   9.02  13.635   \n",
       "7       Clear + Few clouds + Partly cloudy + Partly c...   8.20  12.880   \n",
       "8       Clear + Few clouds + Partly cloudy + Partly c...   9.84  14.395   \n",
       "9       Clear + Few clouds + Partly cloudy + Partly c...  13.12  17.425   \n",
       "10      Clear + Few clouds + Partly cloudy + Partly c...  15.58  19.695   \n",
       "11      Clear + Few clouds + Partly cloudy + Partly c...  14.76  16.665   \n",
       "12      Clear + Few clouds + Partly cloudy + Partly c...  17.22  21.210   \n",
       "13      Mist + Cloudy, Mist + Broken clouds, Mist + F...  18.86  22.725   \n",
       "14      Mist + Cloudy, Mist + Broken clouds, Mist + F...  18.86  22.725   \n",
       "15      Mist + Cloudy, Mist + Broken clouds, Mist + F...  18.04  21.970   \n",
       "16      Mist + Cloudy, Mist + Broken clouds, Mist + F...  17.22  21.210   \n",
       "17      Mist + Cloudy, Mist + Broken clouds, Mist + F...  18.04  21.970   \n",
       "18      Light Snow, Light Rain + Thunderstorm + Scatt...  17.22  21.210   \n",
       "19      Light Snow, Light Rain + Thunderstorm + Scatt...  17.22  21.210   \n",
       "20      Mist + Cloudy, Mist + Broken clouds, Mist + F...  16.40  20.455   \n",
       "21      Mist + Cloudy, Mist + Broken clouds, Mist + F...  16.40  20.455   \n",
       "22      Mist + Cloudy, Mist + Broken clouds, Mist + F...  16.40  20.455   \n",
       "23      Mist + Cloudy, Mist + Broken clouds, Mist + F...  18.86  22.725   \n",
       "24      Mist + Cloudy, Mist + Broken clouds, Mist + F...  18.86  22.725   \n",
       "25      Mist + Cloudy, Mist + Broken clouds, Mist + F...  18.04  21.970   \n",
       "26      Mist + Cloudy, Mist + Broken clouds, Mist + F...  17.22  21.210   \n",
       "27      Mist + Cloudy, Mist + Broken clouds, Mist + F...  18.86  22.725   \n",
       "28      Mist + Cloudy, Mist + Broken clouds, Mist + F...  18.86  22.725   \n",
       "29      Light Snow, Light Rain + Thunderstorm + Scatt...  17.22  21.210   \n",
       "...                                                  ...    ...     ...   \n",
       "10856   Clear + Few clouds + Partly cloudy + Partly c...  15.58  19.695   \n",
       "10857   Clear + Few clouds + Partly cloudy + Partly c...  15.58  19.695   \n",
       "10858   Clear + Few clouds + Partly cloudy + Partly c...  14.76  16.665   \n",
       "10859   Clear + Few clouds + Partly cloudy + Partly c...  14.76  17.425   \n",
       "10860   Clear + Few clouds + Partly cloudy + Partly c...  13.94  16.665   \n",
       "10861   Clear + Few clouds + Partly cloudy + Partly c...  13.94  17.425   \n",
       "10862   Clear + Few clouds + Partly cloudy + Partly c...  12.30  15.910   \n",
       "10863   Clear + Few clouds + Partly cloudy + Partly c...  12.30  15.910   \n",
       "10864   Clear + Few clouds + Partly cloudy + Partly c...  11.48  15.150   \n",
       "10865   Clear + Few clouds + Partly cloudy + Partly c...  10.66  13.635   \n",
       "10866   Clear + Few clouds + Partly cloudy + Partly c...   9.84  12.120   \n",
       "10867   Clear + Few clouds + Partly cloudy + Partly c...  10.66  14.395   \n",
       "10868   Clear + Few clouds + Partly cloudy + Partly c...   9.84  12.880   \n",
       "10869   Clear + Few clouds + Partly cloudy + Partly c...  10.66  13.635   \n",
       "10870   Clear + Few clouds + Partly cloudy + Partly c...   9.84  12.880   \n",
       "10871   Clear + Few clouds + Partly cloudy + Partly c...  11.48  14.395   \n",
       "10872   Clear + Few clouds + Partly cloudy + Partly c...  13.12  16.665   \n",
       "10873   Clear + Few clouds + Partly cloudy + Partly c...  16.40  20.455   \n",
       "10874   Clear + Few clouds + Partly cloudy + Partly c...  16.40  20.455   \n",
       "10875   Clear + Few clouds + Partly cloudy + Partly c...  17.22  21.210   \n",
       "10876   Clear + Few clouds + Partly cloudy + Partly c...  17.22  21.210   \n",
       "10877   Clear + Few clouds + Partly cloudy + Partly c...  17.22  21.210   \n",
       "10878   Clear + Few clouds + Partly cloudy + Partly c...  17.22  21.210   \n",
       "10879   Clear + Few clouds + Partly cloudy + Partly c...  16.40  20.455   \n",
       "10880   Clear + Few clouds + Partly cloudy + Partly c...  15.58  19.695   \n",
       "10881   Clear + Few clouds + Partly cloudy + Partly c...  15.58  19.695   \n",
       "10882   Clear + Few clouds + Partly cloudy + Partly c...  14.76  17.425   \n",
       "10883   Clear + Few clouds + Partly cloudy + Partly c...  13.94  15.910   \n",
       "10884   Clear + Few clouds + Partly cloudy + Partly c...  13.94  17.425   \n",
       "10885   Clear + Few clouds + Partly cloudy + Partly c...  13.12  16.665   \n",
       "\n",
       "       humidity  windspeed  casual  registered  count        date time  \\\n",
       "0            81     0.0000       3          13     16  2011-01-01   00   \n",
       "1            80     0.0000       8          32     40  2011-01-01   01   \n",
       "2            80     0.0000       5          27     32  2011-01-01   02   \n",
       "3            75     0.0000       3          10     13  2011-01-01   03   \n",
       "4            75     0.0000       0           1      1  2011-01-01   04   \n",
       "5            75     6.0032       0           1      1  2011-01-01   05   \n",
       "6            80     0.0000       2           0      2  2011-01-01   06   \n",
       "7            86     0.0000       1           2      3  2011-01-01   07   \n",
       "8            75     0.0000       1           7      8  2011-01-01   08   \n",
       "9            76     0.0000       8           6     14  2011-01-01   09   \n",
       "10           76    16.9979      12          24     36  2011-01-01   10   \n",
       "11           81    19.0012      26          30     56  2011-01-01   11   \n",
       "12           77    19.0012      29          55     84  2011-01-01   12   \n",
       "13           72    19.9995      47          47     94  2011-01-01   13   \n",
       "14           72    19.0012      35          71    106  2011-01-01   14   \n",
       "15           77    19.9995      40          70    110  2011-01-01   15   \n",
       "16           82    19.9995      41          52     93  2011-01-01   16   \n",
       "17           82    19.0012      15          52     67  2011-01-01   17   \n",
       "18           88    16.9979       9          26     35  2011-01-01   18   \n",
       "19           88    16.9979       6          31     37  2011-01-01   19   \n",
       "20           87    16.9979      11          25     36  2011-01-01   20   \n",
       "21           87    12.9980       3          31     34  2011-01-01   21   \n",
       "22           94    15.0013      11          17     28  2011-01-01   22   \n",
       "23           88    19.9995      15          24     39  2011-01-01   23   \n",
       "24           88    19.9995       4          13     17  2011-01-02   00   \n",
       "25           94    16.9979       1          16     17  2011-01-02   01   \n",
       "26          100    19.0012       1           8      9  2011-01-02   02   \n",
       "27           94    12.9980       2           4      6  2011-01-02   03   \n",
       "28           94    12.9980       2           1      3  2011-01-02   04   \n",
       "29           77    19.9995       0           2      2  2011-01-02   06   \n",
       "...         ...        ...     ...         ...    ...         ...  ...   \n",
       "10856        46    22.0028      13         512    525  2012-12-18   18   \n",
       "10857        46    26.0027      19         334    353  2012-12-18   19   \n",
       "10858        50    16.9979       4         264    268  2012-12-18   20   \n",
       "10859        50    15.0013       9         159    168  2012-12-18   21   \n",
       "10860        49     0.0000       5         127    132  2012-12-18   22   \n",
       "10861        49     6.0032       1          80     81  2012-12-18   23   \n",
       "10862        61     0.0000       6          35     41  2012-12-19   00   \n",
       "10863        65     6.0032       1          14     15  2012-12-19   01   \n",
       "10864        65     6.0032       1           2      3  2012-12-19   02   \n",
       "10865        75     8.9981       0           5      5  2012-12-19   03   \n",
       "10866        75     8.9981       1           6      7  2012-12-19   04   \n",
       "10867        75     6.0032       2          29     31  2012-12-19   05   \n",
       "10868        75     6.0032       3         109    112  2012-12-19   06   \n",
       "10869        75     8.9981       3         360    363  2012-12-19   07   \n",
       "10870        87     7.0015      13         665    678  2012-12-19   08   \n",
       "10871        75     7.0015       8         309    317  2012-12-19   09   \n",
       "10872        70     7.0015      17         147    164  2012-12-19   10   \n",
       "10873        54    15.0013      31         169    200  2012-12-19   11   \n",
       "10874        54    19.0012      33         203    236  2012-12-19   12   \n",
       "10875        50    12.9980      30         183    213  2012-12-19   13   \n",
       "10876        50    12.9980      33         185    218  2012-12-19   14   \n",
       "10877        50    19.0012      28         209    237  2012-12-19   15   \n",
       "10878        50    23.9994      37         297    334  2012-12-19   16   \n",
       "10879        50    26.0027      26         536    562  2012-12-19   17   \n",
       "10880        50    23.9994      23         546    569  2012-12-19   18   \n",
       "10881        50    26.0027       7         329    336  2012-12-19   19   \n",
       "10882        57    15.0013      10         231    241  2012-12-19   20   \n",
       "10883        61    15.0013       4         164    168  2012-12-19   21   \n",
       "10884        61     6.0032      12         117    129  2012-12-19   22   \n",
       "10885        66     8.9981       4          84     88  2012-12-19   23   \n",
       "\n",
       "         weekday     month  \n",
       "0       Saturday   January  \n",
       "1       Saturday   January  \n",
       "2       Saturday   January  \n",
       "3       Saturday   January  \n",
       "4       Saturday   January  \n",
       "5       Saturday   January  \n",
       "6       Saturday   January  \n",
       "7       Saturday   January  \n",
       "8       Saturday   January  \n",
       "9       Saturday   January  \n",
       "10      Saturday   January  \n",
       "11      Saturday   January  \n",
       "12      Saturday   January  \n",
       "13      Saturday   January  \n",
       "14      Saturday   January  \n",
       "15      Saturday   January  \n",
       "16      Saturday   January  \n",
       "17      Saturday   January  \n",
       "18      Saturday   January  \n",
       "19      Saturday   January  \n",
       "20      Saturday   January  \n",
       "21      Saturday   January  \n",
       "22      Saturday   January  \n",
       "23      Saturday   January  \n",
       "24        Sunday   January  \n",
       "25        Sunday   January  \n",
       "26        Sunday   January  \n",
       "27        Sunday   January  \n",
       "28        Sunday   January  \n",
       "29        Sunday   January  \n",
       "...          ...       ...  \n",
       "10856    Tuesday  December  \n",
       "10857    Tuesday  December  \n",
       "10858    Tuesday  December  \n",
       "10859    Tuesday  December  \n",
       "10860    Tuesday  December  \n",
       "10861    Tuesday  December  \n",
       "10862  Wednesday  December  \n",
       "10863  Wednesday  December  \n",
       "10864  Wednesday  December  \n",
       "10865  Wednesday  December  \n",
       "10866  Wednesday  December  \n",
       "10867  Wednesday  December  \n",
       "10868  Wednesday  December  \n",
       "10869  Wednesday  December  \n",
       "10870  Wednesday  December  \n",
       "10871  Wednesday  December  \n",
       "10872  Wednesday  December  \n",
       "10873  Wednesday  December  \n",
       "10874  Wednesday  December  \n",
       "10875  Wednesday  December  \n",
       "10876  Wednesday  December  \n",
       "10877  Wednesday  December  \n",
       "10878  Wednesday  December  \n",
       "10879  Wednesday  December  \n",
       "10880  Wednesday  December  \n",
       "10881  Wednesday  December  \n",
       "10882  Wednesday  December  \n",
       "10883  Wednesday  December  \n",
       "10884  Wednesday  December  \n",
       "10885  Wednesday  December  \n",
       "\n",
       "[10886 rows x 15 columns]>"
      ]
     },
     "execution_count": 87,
     "metadata": {},
     "output_type": "execute_result"
    }
   ],
   "source": [
    "data.info"
   ]
  },
  {
   "cell_type": "code",
   "execution_count": 88,
   "metadata": {},
   "outputs": [],
   "source": [
    "temp_feature = data[\"temp\"]\n",
    "holiday_feature = data[\"holiday\"]"
   ]
  },
  {
   "cell_type": "code",
   "execution_count": 89,
   "metadata": {},
   "outputs": [
    {
     "data": {
      "text/plain": [
       "<matplotlib.axes._subplots.AxesSubplot at 0x7fc8c4cbd150>"
      ]
     },
     "execution_count": 89,
     "metadata": {},
     "output_type": "execute_result"
    },
    {
     "data": {
      "image/png": "[encoded data removed]",
      "text/plain": [
       "<Figure size 432x288 with 1 Axes>"
      ]
     },
     "metadata": {
      "needs_background": "light"
     },
     "output_type": "display_data"
    }
   ],
   "source": [
    "#import matplotlib.pyplot as plt\n",
    "temp_feature.to_frame().plot.hist(alpha=0.5, bins=100, grid=True, legend=None)"
   ]
  },
  {
   "cell_type": "code",
   "execution_count": 90,
   "metadata": {},
   "outputs": [
    {
     "data": {
      "text/plain": [
       "<matplotlib.axes._subplots.AxesSubplot at 0x7fc8c4fa8e50>"
      ]
     },
     "execution_count": 90,
     "metadata": {},
     "output_type": "execute_result"
    },
    {
     "data": {
      "image/png": "[encoded data removed]",
      "text/plain": [
       "<Figure size 432x288 with 1 Axes>"
      ]
     },
     "metadata": {
      "needs_background": "light"
     },
     "output_type": "display_data"
    }
   ],
   "source": [
    "atemp_feature = data[\"atemp\"]\n",
    "atemp_feature.to_frame().plot.hist(alpha=0.5, bins=100, grid=True, legend=None)"
   ]
  },
  {
   "cell_type": "code",
   "execution_count": 91,
   "metadata": {
    "scrolled": true
   },
   "outputs": [
    {
     "data": {
      "text/plain": [
       "<matplotlib.axes._subplots.AxesSubplot at 0x7fc8c4517a90>"
      ]
     },
     "execution_count": 91,
     "metadata": {},
     "output_type": "execute_result"
    },
    {
     "data": {
      "image/png": "[encoded data removed]",
      "text/plain": [
       "<Figure size 432x288 with 1 Axes>"
      ]
     },
     "metadata": {
      "needs_background": "light"
     },
     "output_type": "display_data"
    }
   ],
   "source": [
    "data[\"humidity\"].to_frame().plot.hist(alpha=0.5, bins=50, grid=True, legend=None)"
   ]
  },
  {
   "cell_type": "code",
   "execution_count": 92,
   "metadata": {},
   "outputs": [
    {
     "data": {
      "text/plain": [
       "<matplotlib.axes._subplots.AxesSubplot at 0x7fc8c43996d0>"
      ]
     },
     "execution_count": 92,
     "metadata": {},
     "output_type": "execute_result"
    },
    {
     "data": {
      "image/png": "[encoded data removed]",
      "text/plain": [
       "<Figure size 432x288 with 1 Axes>"
      ]
     },
     "metadata": {
      "needs_background": "light"
     },
     "output_type": "display_data"
    }
   ],
   "source": [
    "data[\"windspeed\"].to_frame().plot.hist(alpha=0.5, bins=20, grid=True, legend=None)"
   ]
  },
  {
   "cell_type": "code",
   "execution_count": 93,
   "metadata": {},
   "outputs": [
    {
     "data": {
      "text/plain": [
       "<matplotlib.axes._subplots.AxesSubplot at 0x7fc8c42e3150>"
      ]
     },
     "execution_count": 93,
     "metadata": {},
     "output_type": "execute_result"
    },
    {
     "data": {
      "image/png": "[encoded data removed]",
      "text/plain": [
       "<Figure size 432x288 with 1 Axes>"
      ]
     },
     "metadata": {
      "needs_background": "light"
     },
     "output_type": "display_data"
    }
   ],
   "source": [
    "data[\"windspeed\"].apply(np.sqrt).to_frame().plot.hist(alpha=0.5, bins=20, grid=True, legend=None)"
   ]
  },
  {
   "cell_type": "code",
   "execution_count": 94,
   "metadata": {},
   "outputs": [
    {
     "data": {
      "text/plain": [
       "<matplotlib.axes._subplots.AxesSubplot at 0x7fc8c41b01d0>"
      ]
     },
     "execution_count": 94,
     "metadata": {},
     "output_type": "execute_result"
    },
    {
     "data": {
      "image/png": "[encoded data removed]",
      "text/plain": [
       "<Figure size 432x288 with 1 Axes>"
      ]
     },
     "metadata": {
      "needs_background": "light"
     },
     "output_type": "display_data"
    }
   ],
   "source": [
    "data[\"casual\"].to_frame().plot.hist(alpha=0.5, bins=20, grid=True, legend=None)"
   ]
  },
  {
   "cell_type": "code",
   "execution_count": 95,
   "metadata": {},
   "outputs": [
    {
     "data": {
      "text/plain": [
       "<matplotlib.axes._subplots.AxesSubplot at 0x7fc8c4131250>"
      ]
     },
     "execution_count": 95,
     "metadata": {},
     "output_type": "execute_result"
    },
    {
     "data": {
      "image/png": "[encoded data removed]",
      "text/plain": [
       "<Figure size 432x288 with 1 Axes>"
      ]
     },
     "metadata": {
      "needs_background": "light"
     },
     "output_type": "display_data"
    }
   ],
   "source": [
    "data[\"registered\"].to_frame().plot.hist(alpha=0.5, bins=20, grid=True, legend=None)"
   ]
  },
  {
   "cell_type": "code",
   "execution_count": 96,
   "metadata": {},
   "outputs": [
    {
     "data": {
      "text/plain": [
       "<matplotlib.axes._subplots.AxesSubplot at 0x7fc8c4088810>"
      ]
     },
     "execution_count": 96,
     "metadata": {},
     "output_type": "execute_result"
    },
    {
     "data": {
      "image/png": "[encoded data removed]",
      "text/plain": [
       "<Figure size 432x288 with 1 Axes>"
      ]
     },
     "metadata": {
      "needs_background": "light"
     },
     "output_type": "display_data"
    }
   ],
   "source": [
    "data[\"count\"].to_frame().plot.hist(alpha=0.5, bins=20, grid=True, legend=None)"
   ]
  },
  {
   "cell_type": "code",
   "execution_count": 97,
   "metadata": {},
   "outputs": [
    {
     "data": {
      "text/plain": [
       "0        00\n",
       "1        01\n",
       "2        02\n",
       "3        03\n",
       "4        04\n",
       "5        05\n",
       "6        06\n",
       "7        07\n",
       "8        08\n",
       "9        09\n",
       "10       10\n",
       "11       11\n",
       "12       12\n",
       "13       13\n",
       "14       14\n",
       "15       15\n",
       "16       16\n",
       "17       17\n",
       "18       18\n",
       "19       19\n",
       "20       20\n",
       "21       21\n",
       "22       22\n",
       "23       23\n",
       "24       00\n",
       "25       01\n",
       "26       02\n",
       "27       03\n",
       "28       04\n",
       "29       06\n",
       "         ..\n",
       "10856    18\n",
       "10857    19\n",
       "10858    20\n",
       "10859    21\n",
       "10860    22\n",
       "10861    23\n",
       "10862    00\n",
       "10863    01\n",
       "10864    02\n",
       "10865    03\n",
       "10866    04\n",
       "10867    05\n",
       "10868    06\n",
       "10869    07\n",
       "10870    08\n",
       "10871    09\n",
       "10872    10\n",
       "10873    11\n",
       "10874    12\n",
       "10875    13\n",
       "10876    14\n",
       "10877    15\n",
       "10878    16\n",
       "10879    17\n",
       "10880    18\n",
       "10881    19\n",
       "10882    20\n",
       "10883    21\n",
       "10884    22\n",
       "10885    23\n",
       "Name: time, Length: 10886, dtype: category\n",
       "Categories (24, object): [00, 01, 02, 03, ..., 20, 21, 22, 23]"
      ]
     },
     "execution_count": 97,
     "metadata": {},
     "output_type": "execute_result"
    }
   ],
   "source": [
    "data.time"
   ]
  },
  {
   "cell_type": "markdown",
   "metadata": {},
   "source": [
    "# Outlier Analysis"
   ]
  },
  {
   "cell_type": "code",
   "execution_count": 98,
   "metadata": {},
   "outputs": [
    {
     "data": {
      "text/plain": [
       "<matplotlib.axes._subplots.AxesSubplot at 0x7fc8affc46d0>"
      ]
     },
     "execution_count": 98,
     "metadata": {},
     "output_type": "execute_result"
    },
    {
     "data": {
      "image/png": "[encoded data removed]",
      "text/plain": [
       "<Figure size 432x288 with 1 Axes>"
      ]
     },
     "metadata": {
      "needs_background": "light"
     },
     "output_type": "display_data"
    }
   ],
   "source": [
    "sns.boxplot(data=data, y=\"count\")"
   ]
  },
  {
   "cell_type": "code",
   "execution_count": 99,
   "metadata": {},
   "outputs": [
    {
     "data": {
      "text/plain": [
       "<matplotlib.axes._subplots.AxesSubplot at 0x7fc8aff00910>"
      ]
     },
     "execution_count": 99,
     "metadata": {},
     "output_type": "execute_result"
    },
    {
     "data": {
      "image/png": "[encoded data removed]",
      "text/plain": [
       "<Figure size 432x288 with 1 Axes>"
      ]
     },
     "metadata": {
      "needs_background": "light"
     },
     "output_type": "display_data"
    }
   ],
   "source": [
    "sns.boxplot(data=data, y=\"count\", x=\"season\")"
   ]
  },
  {
   "cell_type": "code",
   "execution_count": 100,
   "metadata": {},
   "outputs": [
    {
     "data": {
      "text/plain": [
       "<matplotlib.axes._subplots.AxesSubplot at 0x7fc8afe46d90>"
      ]
     },
     "execution_count": 100,
     "metadata": {},
     "output_type": "execute_result"
    },
    {
     "data": {
      "image/png": "[encoded data removed]",
      "text/plain": [
       "<Figure size 432x288 with 1 Axes>"
      ]
     },
     "metadata": {
      "needs_background": "light"
     },
     "output_type": "display_data"
    }
   ],
   "source": [
    "sns.boxplot(data=data, y=\"count\", x=\"time\")"
   ]
  },
  {
   "cell_type": "code",
   "execution_count": 101,
   "metadata": {},
   "outputs": [
    {
     "data": {
      "text/plain": [
       "<matplotlib.axes._subplots.AxesSubplot at 0x7fc8afbfc410>"
      ]
     },
     "execution_count": 101,
     "metadata": {},
     "output_type": "execute_result"
    },
    {
     "data": {
      "image/png": "[encoded data removed]",
      "text/plain": [
       "<Figure size 432x288 with 1 Axes>"
      ]
     },
     "metadata": {
      "needs_background": "light"
     },
     "output_type": "display_data"
    }
   ],
   "source": [
    "sns.boxplot(data = data, y = \"count\", x = \"workingday\")"
   ]
  },
  {
   "cell_type": "code",
   "execution_count": 102,
   "metadata": {},
   "outputs": [],
   "source": [
    "cleaned_data = data[np.abs(data[\"count\"] - data[\"count\"].mean()) <= (3 * data[\"count\"].std())]"
   ]
  },
  {
   "cell_type": "code",
   "execution_count": 103,
   "metadata": {},
   "outputs": [
    {
     "data": {
      "text/plain": [
       "(10886, 15)"
      ]
     },
     "execution_count": 103,
     "metadata": {},
     "output_type": "execute_result"
    }
   ],
   "source": [
    "data.shape"
   ]
  },
  {
   "cell_type": "code",
   "execution_count": 104,
   "metadata": {},
   "outputs": [
    {
     "data": {
      "text/plain": [
       "(10739, 15)"
      ]
     },
     "execution_count": 104,
     "metadata": {},
     "output_type": "execute_result"
    }
   ],
   "source": [
    "cleaned_data.shape"
   ]
  },
  {
   "cell_type": "markdown",
   "metadata": {},
   "source": [
    "# Finding Dependent Variables "
   ]
  },
  {
   "cell_type": "code",
   "execution_count": 105,
   "metadata": {},
   "outputs": [],
   "source": [
    "corr_matrix = data.corr()"
   ]
  },
  {
   "cell_type": "code",
   "execution_count": 106,
   "metadata": {},
   "outputs": [
    {
     "data": {
      "text/plain": [
       "<matplotlib.axes._subplots.AxesSubplot at 0x7fc8cccd4550>"
      ]
     },
     "execution_count": 106,
     "metadata": {},
     "output_type": "execute_result"
    },
    {
     "data": {
      "image/png": "[encoded data removed]",
      "text/plain": [
       "<Figure size 432x288 with 2 Axes>"
      ]
     },
     "metadata": {
      "needs_background": "light"
     },
     "output_type": "display_data"
    }
   ],
   "source": [
    "sns.heatmap(corr_matrix, annot=True,square=True, cmap=\"Blues\")"
   ]
  },
  {
   "cell_type": "markdown",
   "metadata": {},
   "source": [
    "# Finding Skewness"
   ]
  },
  {
   "cell_type": "code",
   "execution_count": 107,
   "metadata": {},
   "outputs": [
    {
     "data": {
      "text/plain": [
       "<matplotlib.axes._subplots.AxesSubplot at 0x7fc8afa94890>"
      ]
     },
     "execution_count": 107,
     "metadata": {},
     "output_type": "execute_result"
    },
    {
     "data": {
      "image/png": "[encoded data removed]",
      "text/plain": [
       "<Figure size 432x288 with 1 Axes>"
      ]
     },
     "metadata": {
      "needs_background": "light"
     },
     "output_type": "display_data"
    }
   ],
   "source": [
    "sns.distplot(tuple(cleaned_data[\"count\"]))"
   ]
  },
  {
   "cell_type": "code",
   "execution_count": 108,
   "metadata": {},
   "outputs": [
    {
     "data": {
      "text/plain": [
       "<matplotlib.axes._subplots.AxesSubplot at 0x7fc8af98b1d0>"
      ]
     },
     "execution_count": 108,
     "metadata": {},
     "output_type": "execute_result"
    },
    {
     "data": {
      "image/png": "[encoded data removed]",
      "text/plain": [
       "<Figure size 432x288 with 1 Axes>"
      ]
     },
     "metadata": {
      "needs_background": "light"
     },
     "output_type": "display_data"
    }
   ],
   "source": [
    "sns.distplot(tuple(np.log(cleaned_data[\"count\"])))"
   ]
  },
  {
   "cell_type": "code",
   "execution_count": 109,
   "metadata": {},
   "outputs": [
    {
     "data": {
      "text/plain": [
       "season        category\n",
       "holiday       category\n",
       "workingday    category\n",
       "weather       category\n",
       "temp           float64\n",
       "atemp          float64\n",
       "humidity         int64\n",
       "windspeed      float64\n",
       "casual           int64\n",
       "registered       int64\n",
       "count            int64\n",
       "date            object\n",
       "time          category\n",
       "weekday       category\n",
       "month         category\n",
       "dtype: object"
      ]
     },
     "execution_count": 109,
     "metadata": {},
     "output_type": "execute_result"
    }
   ],
   "source": [
    "cleaned_data.dtypes"
   ]
  },
  {
   "cell_type": "code",
   "execution_count": 110,
   "metadata": {},
   "outputs": [],
   "source": [
    "month_mean_count = pd.DataFrame(cleaned_data.groupby(\"month\")[\"count\"].mean()).sort_values(\"count\").reset_index()"
   ]
  },
  {
   "cell_type": "code",
   "execution_count": 111,
   "metadata": {},
   "outputs": [
    {
     "data": {
      "text/html": [
       "<div>\n",
       "<style scoped>\n",
       "    .dataframe tbody tr th:only-of-type {\n",
       "        vertical-align: middle;\n",
       "    }\n",
       "\n",
       "    .dataframe tbody tr th {\n",
       "        vertical-align: top;\n",
       "    }\n",
       "\n",
       "    .dataframe thead th {\n",
       "        text-align: right;\n",
       "    }\n",
       "</style>\n",
       "<table border=\"1\" class=\"dataframe\">\n",
       "  <thead>\n",
       "    <tr style=\"text-align: right;\">\n",
       "      <th></th>\n",
       "      <th>month</th>\n",
       "      <th>count</th>\n",
       "    </tr>\n",
       "  </thead>\n",
       "  <tbody>\n",
       "    <tr>\n",
       "      <th>0</th>\n",
       "      <td>January</td>\n",
       "      <td>90.366516</td>\n",
       "    </tr>\n",
       "    <tr>\n",
       "      <th>1</th>\n",
       "      <td>February</td>\n",
       "      <td>110.003330</td>\n",
       "    </tr>\n",
       "    <tr>\n",
       "      <th>2</th>\n",
       "      <td>March</td>\n",
       "      <td>145.399108</td>\n",
       "    </tr>\n",
       "    <tr>\n",
       "      <th>3</th>\n",
       "      <td>December</td>\n",
       "      <td>174.349451</td>\n",
       "    </tr>\n",
       "    <tr>\n",
       "      <th>4</th>\n",
       "      <td>April</td>\n",
       "      <td>177.013363</td>\n",
       "    </tr>\n",
       "    <tr>\n",
       "      <th>5</th>\n",
       "      <td>November</td>\n",
       "      <td>193.677278</td>\n",
       "    </tr>\n",
       "    <tr>\n",
       "      <th>6</th>\n",
       "      <td>October</td>\n",
       "      <td>205.184510</td>\n",
       "    </tr>\n",
       "    <tr>\n",
       "      <th>7</th>\n",
       "      <td>May</td>\n",
       "      <td>212.294118</td>\n",
       "    </tr>\n",
       "    <tr>\n",
       "      <th>8</th>\n",
       "      <td>September</td>\n",
       "      <td>213.777273</td>\n",
       "    </tr>\n",
       "    <tr>\n",
       "      <th>9</th>\n",
       "      <td>August</td>\n",
       "      <td>218.130631</td>\n",
       "    </tr>\n",
       "    <tr>\n",
       "      <th>10</th>\n",
       "      <td>July</td>\n",
       "      <td>225.133929</td>\n",
       "    </tr>\n",
       "    <tr>\n",
       "      <th>11</th>\n",
       "      <td>June</td>\n",
       "      <td>231.093855</td>\n",
       "    </tr>\n",
       "  </tbody>\n",
       "</table>\n",
       "</div>"
      ],
      "text/plain": [
       "        month       count\n",
       "0     January   90.366516\n",
       "1    February  110.003330\n",
       "2       March  145.399108\n",
       "3    December  174.349451\n",
       "4       April  177.013363\n",
       "5    November  193.677278\n",
       "6     October  205.184510\n",
       "7         May  212.294118\n",
       "8   September  213.777273\n",
       "9      August  218.130631\n",
       "10       July  225.133929\n",
       "11       June  231.093855"
      ]
     },
     "execution_count": 111,
     "metadata": {},
     "output_type": "execute_result"
    }
   ],
   "source": [
    "month_mean_count"
   ]
  },
  {
   "cell_type": "code",
   "execution_count": 112,
   "metadata": {},
   "outputs": [
    {
     "data": {
      "text/plain": [
       "<matplotlib.axes._subplots.AxesSubplot at 0x7fc8afbe0610>"
      ]
     },
     "execution_count": 112,
     "metadata": {},
     "output_type": "execute_result"
    },
    {
     "data": {
      "image/png": "[encoded data removed]",
      "text/plain": [
       "<Figure size 1152x432 with 1 Axes>"
      ]
     },
     "metadata": {
      "needs_background": "light"
     },
     "output_type": "display_data"
    }
   ],
   "source": [
    "plt.figure(figsize=(16, 6))\n",
    "sns.barplot(data = cleaned_data, y = \"count\", x = \"month\")"
   ]
  },
  {
   "cell_type": "code",
   "execution_count": 113,
   "metadata": {},
   "outputs": [],
   "source": [
    "hour_mean_df = pd.DataFrame(cleaned_data.groupby([\"time\",\"season\"])[\"count\"].mean()).reset_index()"
   ]
  },
  {
   "cell_type": "code",
   "execution_count": 114,
   "metadata": {},
   "outputs": [
    {
     "data": {
      "text/html": [
       "<div>\n",
       "<style scoped>\n",
       "    .dataframe tbody tr th:only-of-type {\n",
       "        vertical-align: middle;\n",
       "    }\n",
       "\n",
       "    .dataframe tbody tr th {\n",
       "        vertical-align: top;\n",
       "    }\n",
       "\n",
       "    .dataframe thead th {\n",
       "        text-align: right;\n",
       "    }\n",
       "</style>\n",
       "<table border=\"1\" class=\"dataframe\">\n",
       "  <thead>\n",
       "    <tr style=\"text-align: right;\">\n",
       "      <th></th>\n",
       "      <th>time</th>\n",
       "      <th>season</th>\n",
       "      <th>count</th>\n",
       "    </tr>\n",
       "  </thead>\n",
       "  <tbody>\n",
       "    <tr>\n",
       "      <th>0</th>\n",
       "      <td>00</td>\n",
       "      <td>Fall</td>\n",
       "      <td>75.675439</td>\n",
       "    </tr>\n",
       "    <tr>\n",
       "      <th>1</th>\n",
       "      <td>00</td>\n",
       "      <td>Spring</td>\n",
       "      <td>28.292035</td>\n",
       "    </tr>\n",
       "    <tr>\n",
       "      <th>2</th>\n",
       "      <td>00</td>\n",
       "      <td>Summer</td>\n",
       "      <td>58.473684</td>\n",
       "    </tr>\n",
       "    <tr>\n",
       "      <th>3</th>\n",
       "      <td>00</td>\n",
       "      <td>Winter</td>\n",
       "      <td>57.877193</td>\n",
       "    </tr>\n",
       "    <tr>\n",
       "      <th>4</th>\n",
       "      <td>01</td>\n",
       "      <td>Fall</td>\n",
       "      <td>44.831858</td>\n",
       "    </tr>\n",
       "  </tbody>\n",
       "</table>\n",
       "</div>"
      ],
      "text/plain": [
       "  time  season      count\n",
       "0   00    Fall  75.675439\n",
       "1   00  Spring  28.292035\n",
       "2   00  Summer  58.473684\n",
       "3   00  Winter  57.877193\n",
       "4   01    Fall  44.831858"
      ]
     },
     "execution_count": 114,
     "metadata": {},
     "output_type": "execute_result"
    }
   ],
   "source": [
    "hour_mean_df.head(5)"
   ]
  },
  {
   "cell_type": "code",
   "execution_count": 115,
   "metadata": {},
   "outputs": [
    {
     "data": {
      "text/plain": [
       "<matplotlib.axes._subplots.AxesSubplot at 0x7fc8ccd91b50>"
      ]
     },
     "execution_count": 115,
     "metadata": {},
     "output_type": "execute_result"
    },
    {
     "data": {
      "image/png": "[encoded data removed]",
      "text/plain": [
       "<Figure size 1152x432 with 1 Axes>"
      ]
     },
     "metadata": {
      "needs_background": "light"
     },
     "output_type": "display_data"
    }
   ],
   "source": [
    "plt.figure(figsize=(16,6))\n",
    "sns.pointplot(data = cleaned_data, y = \"count\", x = \"time\", hue = \"season\")"
   ]
  },
  {
   "cell_type": "code",
   "execution_count": 116,
   "metadata": {},
   "outputs": [
    {
     "data": {
      "text/plain": [
       "<matplotlib.axes._subplots.AxesSubplot at 0x7fc8af5a4b10>"
      ]
     },
     "execution_count": 116,
     "metadata": {},
     "output_type": "execute_result"
    },
    {
     "data": {
      "image/png": "[encoded data removed]",
      "text/plain": [
       "<Figure size 1152x432 with 1 Axes>"
      ]
     },
     "metadata": {
      "needs_background": "light"
     },
     "output_type": "display_data"
    }
   ],
   "source": [
    "hour_mean_df = pd.DataFrame(cleaned_data.groupby([\"time\",\"weekday\"])[\"count\"].mean()).reset_index()\n",
    "plt.figure(figsize=(16,6))\n",
    "sns.pointplot(data = cleaned_data, y = \"count\", x = \"time\", hue = \"weekday\")"
   ]
  },
  {
   "cell_type": "code",
   "execution_count": 117,
   "metadata": {},
   "outputs": [
    {
     "data": {
      "text/plain": [
       "<matplotlib.axes._subplots.AxesSubplot at 0x7fc8af5f0b90>"
      ]
     },
     "execution_count": 117,
     "metadata": {},
     "output_type": "execute_result"
    },
    {
     "data": {
      "image/png": "[encoded data removed]",
      "text/plain": [
       "<Figure size 1152x432 with 1 Axes>"
      ]
     },
     "metadata": {
      "needs_background": "light"
     },
     "output_type": "display_data"
    }
   ],
   "source": [
    "plt.figure(figsize=(16,6))\n",
    "sns.barplot(data = data.windspeed.value_counts().reset_index(), y = \"index\", x = \"windspeed\")"
   ]
  },
  {
   "cell_type": "code",
   "execution_count": 118,
   "metadata": {},
   "outputs": [],
   "source": [
    "data_test = pd.read_csv(\"test.csv\")"
   ]
  },
  {
   "cell_type": "code",
   "execution_count": 119,
   "metadata": {},
   "outputs": [],
   "source": [
    "data_train = pd.read_csv(\"train.csv\")"
   ]
  },
  {
   "cell_type": "code",
   "execution_count": 120,
   "metadata": {},
   "outputs": [
    {
     "data": {
      "text/html": [
       "<div>\n",
       "<style scoped>\n",
       "    .dataframe tbody tr th:only-of-type {\n",
       "        vertical-align: middle;\n",
       "    }\n",
       "\n",
       "    .dataframe tbody tr th {\n",
       "        vertical-align: top;\n",
       "    }\n",
       "\n",
       "    .dataframe thead th {\n",
       "        text-align: right;\n",
       "    }\n",
       "</style>\n",
       "<table border=\"1\" class=\"dataframe\">\n",
       "  <thead>\n",
       "    <tr style=\"text-align: right;\">\n",
       "      <th></th>\n",
       "      <th>datetime</th>\n",
       "      <th>season</th>\n",
       "      <th>holiday</th>\n",
       "      <th>workingday</th>\n",
       "      <th>weather</th>\n",
       "      <th>temp</th>\n",
       "      <th>atemp</th>\n",
       "      <th>humidity</th>\n",
       "      <th>windspeed</th>\n",
       "    </tr>\n",
       "  </thead>\n",
       "  <tbody>\n",
       "    <tr>\n",
       "      <th>0</th>\n",
       "      <td>2011-01-20 00:00:00</td>\n",
       "      <td>1</td>\n",
       "      <td>0</td>\n",
       "      <td>1</td>\n",
       "      <td>1</td>\n",
       "      <td>10.66</td>\n",
       "      <td>11.365</td>\n",
       "      <td>56</td>\n",
       "      <td>26.0027</td>\n",
       "    </tr>\n",
       "    <tr>\n",
       "      <th>1</th>\n",
       "      <td>2011-01-20 01:00:00</td>\n",
       "      <td>1</td>\n",
       "      <td>0</td>\n",
       "      <td>1</td>\n",
       "      <td>1</td>\n",
       "      <td>10.66</td>\n",
       "      <td>13.635</td>\n",
       "      <td>56</td>\n",
       "      <td>0.0000</td>\n",
       "    </tr>\n",
       "    <tr>\n",
       "      <th>2</th>\n",
       "      <td>2011-01-20 02:00:00</td>\n",
       "      <td>1</td>\n",
       "      <td>0</td>\n",
       "      <td>1</td>\n",
       "      <td>1</td>\n",
       "      <td>10.66</td>\n",
       "      <td>13.635</td>\n",
       "      <td>56</td>\n",
       "      <td>0.0000</td>\n",
       "    </tr>\n",
       "    <tr>\n",
       "      <th>3</th>\n",
       "      <td>2011-01-20 03:00:00</td>\n",
       "      <td>1</td>\n",
       "      <td>0</td>\n",
       "      <td>1</td>\n",
       "      <td>1</td>\n",
       "      <td>10.66</td>\n",
       "      <td>12.880</td>\n",
       "      <td>56</td>\n",
       "      <td>11.0014</td>\n",
       "    </tr>\n",
       "    <tr>\n",
       "      <th>4</th>\n",
       "      <td>2011-01-20 04:00:00</td>\n",
       "      <td>1</td>\n",
       "      <td>0</td>\n",
       "      <td>1</td>\n",
       "      <td>1</td>\n",
       "      <td>10.66</td>\n",
       "      <td>12.880</td>\n",
       "      <td>56</td>\n",
       "      <td>11.0014</td>\n",
       "    </tr>\n",
       "  </tbody>\n",
       "</table>\n",
       "</div>"
      ],
      "text/plain": [
       "              datetime  season  holiday  workingday  weather   temp   atemp  \\\n",
       "0  2011-01-20 00:00:00       1        0           1        1  10.66  11.365   \n",
       "1  2011-01-20 01:00:00       1        0           1        1  10.66  13.635   \n",
       "2  2011-01-20 02:00:00       1        0           1        1  10.66  13.635   \n",
       "3  2011-01-20 03:00:00       1        0           1        1  10.66  12.880   \n",
       "4  2011-01-20 04:00:00       1        0           1        1  10.66  12.880   \n",
       "\n",
       "   humidity  windspeed  \n",
       "0        56    26.0027  \n",
       "1        56     0.0000  \n",
       "2        56     0.0000  \n",
       "3        56    11.0014  \n",
       "4        56    11.0014  "
      ]
     },
     "execution_count": 120,
     "metadata": {},
     "output_type": "execute_result"
    }
   ],
   "source": [
    "data_test.head(5)"
   ]
  },
  {
   "cell_type": "code",
   "execution_count": 121,
   "metadata": {},
   "outputs": [
    {
     "data": {
      "text/html": [
       "<div>\n",
       "<style scoped>\n",
       "    .dataframe tbody tr th:only-of-type {\n",
       "        vertical-align: middle;\n",
       "    }\n",
       "\n",
       "    .dataframe tbody tr th {\n",
       "        vertical-align: top;\n",
       "    }\n",
       "\n",
       "    .dataframe thead th {\n",
       "        text-align: right;\n",
       "    }\n",
       "</style>\n",
       "<table border=\"1\" class=\"dataframe\">\n",
       "  <thead>\n",
       "    <tr style=\"text-align: right;\">\n",
       "      <th></th>\n",
       "      <th>datetime</th>\n",
       "      <th>season</th>\n",
       "      <th>holiday</th>\n",
       "      <th>workingday</th>\n",
       "      <th>weather</th>\n",
       "      <th>temp</th>\n",
       "      <th>atemp</th>\n",
       "      <th>humidity</th>\n",
       "      <th>windspeed</th>\n",
       "      <th>casual</th>\n",
       "      <th>registered</th>\n",
       "      <th>count</th>\n",
       "    </tr>\n",
       "  </thead>\n",
       "  <tbody>\n",
       "    <tr>\n",
       "      <th>0</th>\n",
       "      <td>2011-01-01 00:00:00</td>\n",
       "      <td>1</td>\n",
       "      <td>0</td>\n",
       "      <td>0</td>\n",
       "      <td>1</td>\n",
       "      <td>9.84</td>\n",
       "      <td>14.395</td>\n",
       "      <td>81</td>\n",
       "      <td>0.0</td>\n",
       "      <td>3</td>\n",
       "      <td>13</td>\n",
       "      <td>16</td>\n",
       "    </tr>\n",
       "    <tr>\n",
       "      <th>1</th>\n",
       "      <td>2011-01-01 01:00:00</td>\n",
       "      <td>1</td>\n",
       "      <td>0</td>\n",
       "      <td>0</td>\n",
       "      <td>1</td>\n",
       "      <td>9.02</td>\n",
       "      <td>13.635</td>\n",
       "      <td>80</td>\n",
       "      <td>0.0</td>\n",
       "      <td>8</td>\n",
       "      <td>32</td>\n",
       "      <td>40</td>\n",
       "    </tr>\n",
       "    <tr>\n",
       "      <th>2</th>\n",
       "      <td>2011-01-01 02:00:00</td>\n",
       "      <td>1</td>\n",
       "      <td>0</td>\n",
       "      <td>0</td>\n",
       "      <td>1</td>\n",
       "      <td>9.02</td>\n",
       "      <td>13.635</td>\n",
       "      <td>80</td>\n",
       "      <td>0.0</td>\n",
       "      <td>5</td>\n",
       "      <td>27</td>\n",
       "      <td>32</td>\n",
       "    </tr>\n",
       "    <tr>\n",
       "      <th>3</th>\n",
       "      <td>2011-01-01 03:00:00</td>\n",
       "      <td>1</td>\n",
       "      <td>0</td>\n",
       "      <td>0</td>\n",
       "      <td>1</td>\n",
       "      <td>9.84</td>\n",
       "      <td>14.395</td>\n",
       "      <td>75</td>\n",
       "      <td>0.0</td>\n",
       "      <td>3</td>\n",
       "      <td>10</td>\n",
       "      <td>13</td>\n",
       "    </tr>\n",
       "    <tr>\n",
       "      <th>4</th>\n",
       "      <td>2011-01-01 04:00:00</td>\n",
       "      <td>1</td>\n",
       "      <td>0</td>\n",
       "      <td>0</td>\n",
       "      <td>1</td>\n",
       "      <td>9.84</td>\n",
       "      <td>14.395</td>\n",
       "      <td>75</td>\n",
       "      <td>0.0</td>\n",
       "      <td>0</td>\n",
       "      <td>1</td>\n",
       "      <td>1</td>\n",
       "    </tr>\n",
       "  </tbody>\n",
       "</table>\n",
       "</div>"
      ],
      "text/plain": [
       "              datetime  season  holiday  workingday  weather  temp   atemp  \\\n",
       "0  2011-01-01 00:00:00       1        0           0        1  9.84  14.395   \n",
       "1  2011-01-01 01:00:00       1        0           0        1  9.02  13.635   \n",
       "2  2011-01-01 02:00:00       1        0           0        1  9.02  13.635   \n",
       "3  2011-01-01 03:00:00       1        0           0        1  9.84  14.395   \n",
       "4  2011-01-01 04:00:00       1        0           0        1  9.84  14.395   \n",
       "\n",
       "   humidity  windspeed  casual  registered  count  \n",
       "0        81        0.0       3          13     16  \n",
       "1        80        0.0       8          32     40  \n",
       "2        80        0.0       5          27     32  \n",
       "3        75        0.0       3          10     13  \n",
       "4        75        0.0       0           1      1  "
      ]
     },
     "execution_count": 121,
     "metadata": {},
     "output_type": "execute_result"
    }
   ],
   "source": [
    "data_train.head(5)"
   ]
  },
  {
   "cell_type": "code",
   "execution_count": 122,
   "metadata": {},
   "outputs": [
    {
     "data": {
      "text/html": [
       "<div>\n",
       "<style scoped>\n",
       "    .dataframe tbody tr th:only-of-type {\n",
       "        vertical-align: middle;\n",
       "    }\n",
       "\n",
       "    .dataframe tbody tr th {\n",
       "        vertical-align: top;\n",
       "    }\n",
       "\n",
       "    .dataframe thead th {\n",
       "        text-align: right;\n",
       "    }\n",
       "</style>\n",
       "<table border=\"1\" class=\"dataframe\">\n",
       "  <thead>\n",
       "    <tr style=\"text-align: right;\">\n",
       "      <th></th>\n",
       "      <th>datetime</th>\n",
       "      <th>season</th>\n",
       "      <th>holiday</th>\n",
       "      <th>workingday</th>\n",
       "      <th>weather</th>\n",
       "      <th>temp</th>\n",
       "      <th>atemp</th>\n",
       "      <th>humidity</th>\n",
       "      <th>windspeed</th>\n",
       "      <th>casual</th>\n",
       "      <th>registered</th>\n",
       "      <th>count</th>\n",
       "    </tr>\n",
       "  </thead>\n",
       "  <tbody>\n",
       "    <tr>\n",
       "      <th>0</th>\n",
       "      <td>2011-01-01 00:00:00</td>\n",
       "      <td>1</td>\n",
       "      <td>0</td>\n",
       "      <td>0</td>\n",
       "      <td>1</td>\n",
       "      <td>9.84</td>\n",
       "      <td>14.395</td>\n",
       "      <td>81</td>\n",
       "      <td>0.0</td>\n",
       "      <td>3.0</td>\n",
       "      <td>13.0</td>\n",
       "      <td>16.0</td>\n",
       "    </tr>\n",
       "    <tr>\n",
       "      <th>1</th>\n",
       "      <td>2011-01-01 01:00:00</td>\n",
       "      <td>1</td>\n",
       "      <td>0</td>\n",
       "      <td>0</td>\n",
       "      <td>1</td>\n",
       "      <td>9.02</td>\n",
       "      <td>13.635</td>\n",
       "      <td>80</td>\n",
       "      <td>0.0</td>\n",
       "      <td>8.0</td>\n",
       "      <td>32.0</td>\n",
       "      <td>40.0</td>\n",
       "    </tr>\n",
       "    <tr>\n",
       "      <th>2</th>\n",
       "      <td>2011-01-01 02:00:00</td>\n",
       "      <td>1</td>\n",
       "      <td>0</td>\n",
       "      <td>0</td>\n",
       "      <td>1</td>\n",
       "      <td>9.02</td>\n",
       "      <td>13.635</td>\n",
       "      <td>80</td>\n",
       "      <td>0.0</td>\n",
       "      <td>5.0</td>\n",
       "      <td>27.0</td>\n",
       "      <td>32.0</td>\n",
       "    </tr>\n",
       "    <tr>\n",
       "      <th>3</th>\n",
       "      <td>2011-01-01 03:00:00</td>\n",
       "      <td>1</td>\n",
       "      <td>0</td>\n",
       "      <td>0</td>\n",
       "      <td>1</td>\n",
       "      <td>9.84</td>\n",
       "      <td>14.395</td>\n",
       "      <td>75</td>\n",
       "      <td>0.0</td>\n",
       "      <td>3.0</td>\n",
       "      <td>10.0</td>\n",
       "      <td>13.0</td>\n",
       "    </tr>\n",
       "    <tr>\n",
       "      <th>4</th>\n",
       "      <td>2011-01-01 04:00:00</td>\n",
       "      <td>1</td>\n",
       "      <td>0</td>\n",
       "      <td>0</td>\n",
       "      <td>1</td>\n",
       "      <td>9.84</td>\n",
       "      <td>14.395</td>\n",
       "      <td>75</td>\n",
       "      <td>0.0</td>\n",
       "      <td>0.0</td>\n",
       "      <td>1.0</td>\n",
       "      <td>1.0</td>\n",
       "    </tr>\n",
       "  </tbody>\n",
       "</table>\n",
       "</div>"
      ],
      "text/plain": [
       "              datetime  season  holiday  workingday  weather  temp   atemp  \\\n",
       "0  2011-01-01 00:00:00       1        0           0        1  9.84  14.395   \n",
       "1  2011-01-01 01:00:00       1        0           0        1  9.02  13.635   \n",
       "2  2011-01-01 02:00:00       1        0           0        1  9.02  13.635   \n",
       "3  2011-01-01 03:00:00       1        0           0        1  9.84  14.395   \n",
       "4  2011-01-01 04:00:00       1        0           0        1  9.84  14.395   \n",
       "\n",
       "   humidity  windspeed  casual  registered  count  \n",
       "0        81        0.0     3.0        13.0   16.0  \n",
       "1        80        0.0     8.0        32.0   40.0  \n",
       "2        80        0.0     5.0        27.0   32.0  \n",
       "3        75        0.0     3.0        10.0   13.0  \n",
       "4        75        0.0     0.0         1.0    1.0  "
      ]
     },
     "execution_count": 122,
     "metadata": {},
     "output_type": "execute_result"
    }
   ],
   "source": [
    "data = data_train.append(data_test, sort=False)\n",
    "data.head(5)"
   ]
  },
  {
   "cell_type": "code",
   "execution_count": 123,
   "metadata": {},
   "outputs": [],
   "source": [
    "data[\"date\"] = data.datetime.apply(lambda x : x.split()[0])"
   ]
  },
  {
   "cell_type": "code",
   "execution_count": 124,
   "metadata": {},
   "outputs": [],
   "source": [
    "data[\"hour\"] = data.datetime.apply(lambda x : x.split()[1].split(\":\")[0]).astype(\"int\")"
   ]
  },
  {
   "cell_type": "code",
   "execution_count": 125,
   "metadata": {},
   "outputs": [],
   "source": [
    "data[\"year\"] = data.datetime.apply(lambda x : x.split()[0].split(\"-\")[0])"
   ]
  },
  {
   "cell_type": "code",
   "execution_count": 126,
   "metadata": {},
   "outputs": [],
   "source": [
    "data[\"weekday\"] = data.date.apply(lambda x : datetime.strptime(x, \"%Y-%m-%d\").weekday())"
   ]
  },
  {
   "cell_type": "code",
   "execution_count": 127,
   "metadata": {},
   "outputs": [],
   "source": [
    "data[\"month\"] = data.date.apply(lambda x : datetime.strptime(x, \"%Y-%m-%d\").month)"
   ]
  },
  {
   "cell_type": "code",
   "execution_count": 128,
   "metadata": {},
   "outputs": [
    {
     "data": {
      "text/plain": [
       "datetime       object\n",
       "season          int64\n",
       "holiday         int64\n",
       "workingday      int64\n",
       "weather         int64\n",
       "temp          float64\n",
       "atemp         float64\n",
       "humidity        int64\n",
       "windspeed     float64\n",
       "casual        float64\n",
       "registered    float64\n",
       "count         float64\n",
       "date           object\n",
       "hour            int64\n",
       "year           object\n",
       "weekday         int64\n",
       "month           int64\n",
       "dtype: object"
      ]
     },
     "execution_count": 128,
     "metadata": {},
     "output_type": "execute_result"
    }
   ],
   "source": [
    "data.dtypes"
   ]
  },
  {
   "cell_type": "code",
   "execution_count": 129,
   "metadata": {},
   "outputs": [],
   "source": [
    "category_type_features = [\"season\", \"holiday\", \"weather\", \"month\", \"year\", \"hour\", \"workingday\"]\n",
    "for i in category_type_features :\n",
    "    data[i] = data[i].astype(\"category\")"
   ]
  },
  {
   "cell_type": "code",
   "execution_count": 130,
   "metadata": {},
   "outputs": [
    {
     "data": {
      "text/plain": [
       "datetime        object\n",
       "season        category\n",
       "holiday       category\n",
       "workingday    category\n",
       "weather       category\n",
       "temp           float64\n",
       "atemp          float64\n",
       "humidity         int64\n",
       "windspeed      float64\n",
       "casual         float64\n",
       "registered     float64\n",
       "count          float64\n",
       "date            object\n",
       "hour          category\n",
       "year          category\n",
       "weekday          int64\n",
       "month         category\n",
       "dtype: object"
      ]
     },
     "execution_count": 130,
     "metadata": {},
     "output_type": "execute_result"
    }
   ],
   "source": [
    "data.dtypes"
   ]
  },
  {
   "cell_type": "code",
   "execution_count": 131,
   "metadata": {},
   "outputs": [],
   "source": [
    "data_train = data[pd.notnull(data[\"count\"])].sort_values(by = \"datetime\")\n",
    "data_test = data[pd.isnull(data[\"count\"])].sort_values(by = \"datetime\")\n",
    "datetime_col = data_test[\"datetime\"]\n",
    "y_labels = data_train[\"count\"]\n",
    "y_labels_registered = data_train[\"registered\"]\n",
    "y_labels_casual = data_train[\"casual\"]"
   ]
  },
  {
   "cell_type": "code",
   "execution_count": 132,
   "metadata": {},
   "outputs": [],
   "source": [
    "drop_features = [\"datetime\", \"registered\", \"casual\", \"date\", \"count\"]\n",
    "data_train.drop(drop_features, inplace=True, axis=1)\n",
    "data_test.drop(drop_features, inplace=True, axis=1)"
   ]
  },
  {
   "cell_type": "code",
   "execution_count": 133,
   "metadata": {},
   "outputs": [
    {
     "data": {
      "text/html": [
       "<div>\n",
       "<style scoped>\n",
       "    .dataframe tbody tr th:only-of-type {\n",
       "        vertical-align: middle;\n",
       "    }\n",
       "\n",
       "    .dataframe tbody tr th {\n",
       "        vertical-align: top;\n",
       "    }\n",
       "\n",
       "    .dataframe thead th {\n",
       "        text-align: right;\n",
       "    }\n",
       "</style>\n",
       "<table border=\"1\" class=\"dataframe\">\n",
       "  <thead>\n",
       "    <tr style=\"text-align: right;\">\n",
       "      <th></th>\n",
       "      <th>season</th>\n",
       "      <th>holiday</th>\n",
       "      <th>workingday</th>\n",
       "      <th>weather</th>\n",
       "      <th>temp</th>\n",
       "      <th>atemp</th>\n",
       "      <th>humidity</th>\n",
       "      <th>windspeed</th>\n",
       "      <th>hour</th>\n",
       "      <th>year</th>\n",
       "      <th>weekday</th>\n",
       "      <th>month</th>\n",
       "    </tr>\n",
       "  </thead>\n",
       "  <tbody>\n",
       "    <tr>\n",
       "      <th>0</th>\n",
       "      <td>1</td>\n",
       "      <td>0</td>\n",
       "      <td>1</td>\n",
       "      <td>1</td>\n",
       "      <td>10.66</td>\n",
       "      <td>11.365</td>\n",
       "      <td>56</td>\n",
       "      <td>26.0027</td>\n",
       "      <td>0</td>\n",
       "      <td>2011</td>\n",
       "      <td>3</td>\n",
       "      <td>1</td>\n",
       "    </tr>\n",
       "    <tr>\n",
       "      <th>1</th>\n",
       "      <td>1</td>\n",
       "      <td>0</td>\n",
       "      <td>1</td>\n",
       "      <td>1</td>\n",
       "      <td>10.66</td>\n",
       "      <td>13.635</td>\n",
       "      <td>56</td>\n",
       "      <td>0.0000</td>\n",
       "      <td>1</td>\n",
       "      <td>2011</td>\n",
       "      <td>3</td>\n",
       "      <td>1</td>\n",
       "    </tr>\n",
       "    <tr>\n",
       "      <th>2</th>\n",
       "      <td>1</td>\n",
       "      <td>0</td>\n",
       "      <td>1</td>\n",
       "      <td>1</td>\n",
       "      <td>10.66</td>\n",
       "      <td>13.635</td>\n",
       "      <td>56</td>\n",
       "      <td>0.0000</td>\n",
       "      <td>2</td>\n",
       "      <td>2011</td>\n",
       "      <td>3</td>\n",
       "      <td>1</td>\n",
       "    </tr>\n",
       "    <tr>\n",
       "      <th>3</th>\n",
       "      <td>1</td>\n",
       "      <td>0</td>\n",
       "      <td>1</td>\n",
       "      <td>1</td>\n",
       "      <td>10.66</td>\n",
       "      <td>12.880</td>\n",
       "      <td>56</td>\n",
       "      <td>11.0014</td>\n",
       "      <td>3</td>\n",
       "      <td>2011</td>\n",
       "      <td>3</td>\n",
       "      <td>1</td>\n",
       "    </tr>\n",
       "    <tr>\n",
       "      <th>4</th>\n",
       "      <td>1</td>\n",
       "      <td>0</td>\n",
       "      <td>1</td>\n",
       "      <td>1</td>\n",
       "      <td>10.66</td>\n",
       "      <td>12.880</td>\n",
       "      <td>56</td>\n",
       "      <td>11.0014</td>\n",
       "      <td>4</td>\n",
       "      <td>2011</td>\n",
       "      <td>3</td>\n",
       "      <td>1</td>\n",
       "    </tr>\n",
       "  </tbody>\n",
       "</table>\n",
       "</div>"
      ],
      "text/plain": [
       "  season holiday workingday weather   temp   atemp  humidity  windspeed hour  \\\n",
       "0      1       0          1       1  10.66  11.365        56    26.0027    0   \n",
       "1      1       0          1       1  10.66  13.635        56     0.0000    1   \n",
       "2      1       0          1       1  10.66  13.635        56     0.0000    2   \n",
       "3      1       0          1       1  10.66  12.880        56    11.0014    3   \n",
       "4      1       0          1       1  10.66  12.880        56    11.0014    4   \n",
       "\n",
       "   year  weekday month  \n",
       "0  2011        3     1  \n",
       "1  2011        3     1  \n",
       "2  2011        3     1  \n",
       "3  2011        3     1  \n",
       "4  2011        3     1  "
      ]
     },
     "execution_count": 133,
     "metadata": {},
     "output_type": "execute_result"
    }
   ],
   "source": [
    "data_test.head(5)"
   ]
  },
  {
   "cell_type": "code",
   "execution_count": 134,
   "metadata": {},
   "outputs": [
    {
     "data": {
      "text/html": [
       "<div>\n",
       "<style scoped>\n",
       "    .dataframe tbody tr th:only-of-type {\n",
       "        vertical-align: middle;\n",
       "    }\n",
       "\n",
       "    .dataframe tbody tr th {\n",
       "        vertical-align: top;\n",
       "    }\n",
       "\n",
       "    .dataframe thead th {\n",
       "        text-align: right;\n",
       "    }\n",
       "</style>\n",
       "<table border=\"1\" class=\"dataframe\">\n",
       "  <thead>\n",
       "    <tr style=\"text-align: right;\">\n",
       "      <th></th>\n",
       "      <th>season</th>\n",
       "      <th>holiday</th>\n",
       "      <th>workingday</th>\n",
       "      <th>weather</th>\n",
       "      <th>temp</th>\n",
       "      <th>atemp</th>\n",
       "      <th>humidity</th>\n",
       "      <th>windspeed</th>\n",
       "      <th>hour</th>\n",
       "      <th>year</th>\n",
       "      <th>weekday</th>\n",
       "      <th>month</th>\n",
       "    </tr>\n",
       "  </thead>\n",
       "  <tbody>\n",
       "    <tr>\n",
       "      <th>0</th>\n",
       "      <td>1</td>\n",
       "      <td>0</td>\n",
       "      <td>0</td>\n",
       "      <td>1</td>\n",
       "      <td>9.84</td>\n",
       "      <td>14.395</td>\n",
       "      <td>81</td>\n",
       "      <td>0.0</td>\n",
       "      <td>0</td>\n",
       "      <td>2011</td>\n",
       "      <td>5</td>\n",
       "      <td>1</td>\n",
       "    </tr>\n",
       "    <tr>\n",
       "      <th>1</th>\n",
       "      <td>1</td>\n",
       "      <td>0</td>\n",
       "      <td>0</td>\n",
       "      <td>1</td>\n",
       "      <td>9.02</td>\n",
       "      <td>13.635</td>\n",
       "      <td>80</td>\n",
       "      <td>0.0</td>\n",
       "      <td>1</td>\n",
       "      <td>2011</td>\n",
       "      <td>5</td>\n",
       "      <td>1</td>\n",
       "    </tr>\n",
       "    <tr>\n",
       "      <th>2</th>\n",
       "      <td>1</td>\n",
       "      <td>0</td>\n",
       "      <td>0</td>\n",
       "      <td>1</td>\n",
       "      <td>9.02</td>\n",
       "      <td>13.635</td>\n",
       "      <td>80</td>\n",
       "      <td>0.0</td>\n",
       "      <td>2</td>\n",
       "      <td>2011</td>\n",
       "      <td>5</td>\n",
       "      <td>1</td>\n",
       "    </tr>\n",
       "    <tr>\n",
       "      <th>3</th>\n",
       "      <td>1</td>\n",
       "      <td>0</td>\n",
       "      <td>0</td>\n",
       "      <td>1</td>\n",
       "      <td>9.84</td>\n",
       "      <td>14.395</td>\n",
       "      <td>75</td>\n",
       "      <td>0.0</td>\n",
       "      <td>3</td>\n",
       "      <td>2011</td>\n",
       "      <td>5</td>\n",
       "      <td>1</td>\n",
       "    </tr>\n",
       "    <tr>\n",
       "      <th>4</th>\n",
       "      <td>1</td>\n",
       "      <td>0</td>\n",
       "      <td>0</td>\n",
       "      <td>1</td>\n",
       "      <td>9.84</td>\n",
       "      <td>14.395</td>\n",
       "      <td>75</td>\n",
       "      <td>0.0</td>\n",
       "      <td>4</td>\n",
       "      <td>2011</td>\n",
       "      <td>5</td>\n",
       "      <td>1</td>\n",
       "    </tr>\n",
       "  </tbody>\n",
       "</table>\n",
       "</div>"
      ],
      "text/plain": [
       "  season holiday workingday weather  temp   atemp  humidity  windspeed hour  \\\n",
       "0      1       0          0       1  9.84  14.395        81        0.0    0   \n",
       "1      1       0          0       1  9.02  13.635        80        0.0    1   \n",
       "2      1       0          0       1  9.02  13.635        80        0.0    2   \n",
       "3      1       0          0       1  9.84  14.395        75        0.0    3   \n",
       "4      1       0          0       1  9.84  14.395        75        0.0    4   \n",
       "\n",
       "   year  weekday month  \n",
       "0  2011        5     1  \n",
       "1  2011        5     1  \n",
       "2  2011        5     1  \n",
       "3  2011        5     1  \n",
       "4  2011        5     1  "
      ]
     },
     "execution_count": 134,
     "metadata": {},
     "output_type": "execute_result"
    }
   ],
   "source": [
    "data_train.head(5)"
   ]
  },
  {
   "cell_type": "code",
   "execution_count": null,
   "metadata": {},
   "outputs": [],
   "source": [
    "\n"
   ]
  },
  {
   "cell_type": "code",
   "execution_count": 135,
   "metadata": {},
   "outputs": [],
   "source": [
    "from sklearn.linear_model import LinearRegression\n",
    "lr_model = LinearRegression()\n",
    "y_labels_log = np.log1p(y_labels)\n",
    "lr_model.fit(X = data_train, y = y_labels_log)\n",
    "train_y_pred = lr_model.predict(X = data_train)"
   ]
  },
  {
   "cell_type": "code",
   "execution_count": null,
   "metadata": {},
   "outputs": [],
   "source": []
  },
  {
   "cell_type": "code",
   "execution_count": 136,
   "metadata": {},
   "outputs": [],
   "source": [
    "from sklearn.metrics import mean_squared_log_error"
   ]
  },
  {
   "cell_type": "code",
   "execution_count": 137,
   "metadata": {},
   "outputs": [
    {
     "name": "stdout",
     "output_type": "stream",
     "text": [
      "('RMSLE Value For Linear Regression: ', 1.0158500002746578)\n"
     ]
    }
   ],
   "source": [
    "print (\"RMSLE Value For Linear Regression: \",\n",
    "       np.sqrt(mean_squared_log_error(np.expm1(y_labels_log),np.expm1(train_y_pred))))"
   ]
  },
  {
   "cell_type": "code",
   "execution_count": 138,
   "metadata": {},
   "outputs": [],
   "source": [
    "from sklearn.ensemble import RandomForestRegressor\n",
    "rf_model = RandomForestRegressor(n_estimators = 200)\n",
    "rf_model.fit(X = data_train, y = y_labels_log)\n",
    "train_y_pred = rf_model.predict(X = data_train)"
   ]
  },
  {
   "cell_type": "code",
   "execution_count": 139,
   "metadata": {},
   "outputs": [
    {
     "name": "stdout",
     "output_type": "stream",
     "text": [
      "('RMSLE Value For Random Forest Regressor: ', 0.10962624301605409)\n"
     ]
    }
   ],
   "source": [
    "print (\"RMSLE Value For Random Forest Regressor: \",\n",
    "       np.sqrt(mean_squared_log_error(np.expm1(y_labels_log),np.expm1(train_y_pred))))"
   ]
  },
  {
   "cell_type": "code",
   "execution_count": 140,
   "metadata": {},
   "outputs": [],
   "source": [
    "from sklearn.ensemble import GradientBoostingRegressor\n",
    "gbm = GradientBoostingRegressor(n_estimators=4000,alpha=0.01)\n",
    "gbm.fit(X = data_train, y = y_labels_log)\n",
    "train_y_pred = gbm.predict(X = data_train)"
   ]
  },
  {
   "cell_type": "code",
   "execution_count": 141,
   "metadata": {},
   "outputs": [
    {
     "name": "stdout",
     "output_type": "stream",
     "text": [
      "('RMSLE Value For Gradient Boost: ', 0.20820457537732667)\n"
     ]
    }
   ],
   "source": [
    "print (\"RMSLE Value For Gradient Boost: \",\n",
    "       np.sqrt(mean_squared_log_error(np.expm1(y_labels_log),np.expm1(train_y_pred))))"
   ]
  },
  {
   "cell_type": "markdown",
   "metadata": {},
   "source": [
    "# Testing on test_train_split"
   ]
  },
  {
   "cell_type": "code",
   "execution_count": 142,
   "metadata": {},
   "outputs": [],
   "source": [
    "from sklearn.model_selection import train_test_split"
   ]
  },
  {
   "cell_type": "code",
   "execution_count": 143,
   "metadata": {},
   "outputs": [
    {
     "name": "stdout",
     "output_type": "stream",
     "text": [
      "(8708, 12) (8708,)\n",
      "(2178, 12) (2178,)\n"
     ]
    }
   ],
   "source": [
    "X_train, X_test, y_train, y_test = train_test_split(data_train, y_labels_log, test_size=0.2)\n",
    "print X_train.shape, y_train.shape\n",
    "print X_test.shape, y_test.shape"
   ]
  },
  {
   "cell_type": "code",
   "execution_count": 144,
   "metadata": {},
   "outputs": [
    {
     "name": "stdout",
     "output_type": "stream",
     "text": [
      "('RMSLE Value For Random Forest Regressor: ', 0.30155610366338453)\n"
     ]
    }
   ],
   "source": [
    "from sklearn.ensemble import RandomForestRegressor\n",
    "rf_model = RandomForestRegressor(n_estimators = 200)\n",
    "rf_model.fit(X = X_train, y = y_train)\n",
    "test_y_pred = rf_model.predict(X = X_test)\n",
    "print (\"RMSLE Value For Random Forest Regressor: \",\n",
    "       np.sqrt(mean_squared_log_error(np.expm1(y_test),np.expm1(test_y_pred))))"
   ]
  },
  {
   "cell_type": "code",
   "execution_count": 145,
   "metadata": {},
   "outputs": [
    {
     "name": "stdout",
     "output_type": "stream",
     "text": [
      "('RMSLE Value For Gradient Boost: ', 0.36840765837060246)\n"
     ]
    }
   ],
   "source": [
    "from sklearn.ensemble import GradientBoostingRegressor\n",
    "gbm = GradientBoostingRegressor()\n",
    "gbm.fit(X = X_train, y = y_train)\n",
    "train_y_pred = gbm.predict(X = X_test)\n",
    "print (\"RMSLE Value For Gradient Boost: \",\n",
    "       np.sqrt(mean_squared_log_error(np.expm1(y_test),np.expm1(train_y_pred))))"
   ]
  },
  {
   "cell_type": "markdown",
   "metadata": {},
   "source": [
    "# Hyper parameter Tuning"
   ]
  },
  {
   "cell_type": "code",
   "execution_count": 146,
   "metadata": {},
   "outputs": [
    {
     "name": "stdout",
     "output_type": "stream",
     "text": [
      "('RMSLE Value For Gradient Boost with learning rate : ', 1, 0.3112142383977544)\n",
      "('RMSLE Value For Gradient Boost with learning rate : ', 0.5, 0.30423431244527727)\n",
      "('RMSLE Value For Gradient Boost with learning rate : ', 0.25, 0.3038535635859908)\n",
      "('RMSLE Value For Gradient Boost with learning rate : ', 0.1, 0.3684076583706026)\n",
      "('RMSLE Value For Gradient Boost with learning rate : ', 0.05, 0.48737551940258295)\n",
      "('RMSLE Value For Gradient Boost with learning rate : ', 0.01, 0.8115518353380076)\n"
     ]
    }
   ],
   "source": [
    "learning_rates = [1, 0.5, 0.25, 0.1, 0.05, 0.01]\n",
    "train_results = []\n",
    "test_results = []\n",
    "for x in learning_rates :\n",
    "    model = GradientBoostingRegressor(learning_rate = x)\n",
    "    model.fit(X = X_train, y = y_train)\n",
    "    test_y_pred = model.predict(X = X_test)\n",
    "    print (\"RMSLE Value For Gradient Boost with learning rate : \",x\n",
    "           ,np.sqrt(mean_squared_log_error(np.expm1(y_test),np.expm1(test_y_pred))))\n",
    "    "
   ]
  },
  {
   "cell_type": "code",
   "execution_count": 147,
   "metadata": {},
   "outputs": [
    {
     "name": "stdout",
     "output_type": "stream",
     "text": [
      "('RMSLE Value For Gradient Boost with n_estimators : ', 1, 1.299703884697572)\n",
      "('RMSLE Value For Gradient Boost with n_estimators : ', 2, 1.2103875897817828)\n",
      "('RMSLE Value For Gradient Boost with n_estimators : ', 4, 1.0689013273800045)\n",
      "('RMSLE Value For Gradient Boost with n_estimators : ', 8, 0.8688578772413376)\n",
      "('RMSLE Value For Gradient Boost with n_estimators : ', 16, 0.6664533758661862)\n",
      "('RMSLE Value For Gradient Boost with n_estimators : ', 32, 0.5373872996493976)\n",
      "('RMSLE Value For Gradient Boost with n_estimators : ', 64, 0.44015823762102196)\n",
      "('RMSLE Value For Gradient Boost with n_estimators : ', 100, 0.36840765837060246)\n",
      "('RMSLE Value For Gradient Boost with n_estimators : ', 200, 0.3102026520712098)\n",
      "('RMSLE Value For Gradient Boost with n_estimators : ', 1000, 0.28714560346296564)\n",
      "('RMSLE Value For Gradient Boost with n_estimators : ', 2500, 0.2853222463573236)\n",
      "('RMSLE Value For Gradient Boost with n_estimators : ', 5000, 0.2872658125508969)\n"
     ]
    }
   ],
   "source": [
    "n_estimators = [1, 2, 4, 8, 16, 32, 64, 100, 200, 1000, 2500, 5000]\n",
    "for x in n_estimators :\n",
    "    model = GradientBoostingRegressor(n_estimators = x)\n",
    "    model.fit(X = X_train, y = y_train)\n",
    "    test_y_pred = model.predict(X = X_test)\n",
    "    print (\"RMSLE Value For Gradient Boost with n_estimators : \",x\n",
    "           ,np.sqrt(mean_squared_log_error(np.expm1(y_test),np.expm1(test_y_pred))))\n"
   ]
  },
  {
   "cell_type": "code",
   "execution_count": 148,
   "metadata": {},
   "outputs": [
    {
     "name": "stdout",
     "output_type": "stream",
     "text": [
      "('RMSLE Value For Gradient Boost with max_depth : ', 1.0, 0.6759670523456504)\n",
      "('RMSLE Value For Gradient Boost with max_depth : ', 2.0, 0.5217731037938627)\n",
      "('RMSLE Value For Gradient Boost with max_depth : ', 3.0, 0.3684076583706026)\n",
      "('RMSLE Value For Gradient Boost with max_depth : ', 4.0, 0.31897806985379235)\n",
      "('RMSLE Value For Gradient Boost with max_depth : ', 5.0, 0.2957363418156752)\n",
      "('RMSLE Value For Gradient Boost with max_depth : ', 6.0, 0.2840414428902149)\n",
      "('RMSLE Value For Gradient Boost with max_depth : ', 7.0, 0.2841166324071072)\n",
      "('RMSLE Value For Gradient Boost with max_depth : ', 8.0, 0.28806389821794093)\n",
      "('RMSLE Value For Gradient Boost with max_depth : ', 9.0, 0.30123417715141704)\n",
      "('RMSLE Value For Gradient Boost with max_depth : ', 10.0, 0.30467742097011447)\n",
      "('RMSLE Value For Gradient Boost with max_depth : ', 11.0, 0.31188027585139)\n",
      "('RMSLE Value For Gradient Boost with max_depth : ', 12.0, 0.31962318088539543)\n"
     ]
    }
   ],
   "source": [
    "max_depths = np.linspace(1, 12, 12, endpoint=True)\n",
    "for x in max_depths :\n",
    "    model = GradientBoostingRegressor(max_depth = x)\n",
    "    model.fit(X = X_train, y = y_train)\n",
    "    test_y_pred = model.predict(X = X_test)\n",
    "    print (\"RMSLE Value For Gradient Boost with max_depth : \",x\n",
    "           ,np.sqrt(mean_squared_log_error(np.expm1(y_test),np.expm1(test_y_pred))))"
   ]
  },
  {
   "cell_type": "code",
   "execution_count": 149,
   "metadata": {},
   "outputs": [
    {
     "name": "stdout",
     "output_type": "stream",
     "text": [
      "('RMSLE Value For Gradient Boost with min_samples_splits : ', 0.01, 0.38101922457701104)\n",
      "('RMSLE Value For Gradient Boost with min_samples_splits : ', 0.02, 0.37560334876301527)\n",
      "('RMSLE Value For Gradient Boost with min_samples_splits : ', 0.03, 0.38140336443990747)\n",
      "('RMSLE Value For Gradient Boost with min_samples_splits : ', 0.04, 0.37795789500388527)\n",
      "('RMSLE Value For Gradient Boost with min_samples_splits : ', 0.05, 0.39436298863133074)\n",
      "('RMSLE Value For Gradient Boost with min_samples_splits : ', 0.060000000000000005, 0.40401647372423594)\n",
      "('RMSLE Value For Gradient Boost with min_samples_splits : ', 0.06999999999999999, 0.39853477015107497)\n",
      "('RMSLE Value For Gradient Boost with min_samples_splits : ', 0.08, 0.41580664098369874)\n",
      "('RMSLE Value For Gradient Boost with min_samples_splits : ', 0.09, 0.40797191979162745)\n",
      "('RMSLE Value For Gradient Boost with min_samples_splits : ', 0.09999999999999999, 0.4143893504601846)\n",
      "('RMSLE Value For Gradient Boost with min_samples_splits : ', 0.11, 0.42970966866246313)\n",
      "('RMSLE Value For Gradient Boost with min_samples_splits : ', 0.12, 0.4100949303885353)\n",
      "('RMSLE Value For Gradient Boost with min_samples_splits : ', 0.13, 0.4472679642774969)\n",
      "('RMSLE Value For Gradient Boost with min_samples_splits : ', 0.14, 0.4259469959680258)\n",
      "('RMSLE Value For Gradient Boost with min_samples_splits : ', 0.15000000000000002, 0.4398173387325749)\n",
      "('RMSLE Value For Gradient Boost with min_samples_splits : ', 0.16, 0.45138273725775596)\n",
      "('RMSLE Value For Gradient Boost with min_samples_splits : ', 0.17, 0.4594184879329641)\n",
      "('RMSLE Value For Gradient Boost with min_samples_splits : ', 0.18000000000000002, 0.47057736558968577)\n",
      "('RMSLE Value For Gradient Boost with min_samples_splits : ', 0.19, 0.4591324586720346)\n",
      "('RMSLE Value For Gradient Boost with min_samples_splits : ', 0.2, 0.4746255443673882)\n",
      "('RMSLE Value For Gradient Boost with min_samples_splits : ', 0.21000000000000002, 0.47281415160821805)\n",
      "('RMSLE Value For Gradient Boost with min_samples_splits : ', 0.22, 0.48394557992074105)\n",
      "('RMSLE Value For Gradient Boost with min_samples_splits : ', 0.23, 0.47672475273076137)\n",
      "('RMSLE Value For Gradient Boost with min_samples_splits : ', 0.24000000000000002, 0.5041367834125577)\n",
      "('RMSLE Value For Gradient Boost with min_samples_splits : ', 0.25, 0.5360660668541802)\n",
      "('RMSLE Value For Gradient Boost with min_samples_splits : ', 0.26, 0.5086245859295222)\n",
      "('RMSLE Value For Gradient Boost with min_samples_splits : ', 0.27, 0.5051587705656496)\n",
      "('RMSLE Value For Gradient Boost with min_samples_splits : ', 0.28, 0.5085682895363625)\n",
      "('RMSLE Value For Gradient Boost with min_samples_splits : ', 0.29000000000000004, 0.5127502750465678)\n",
      "('RMSLE Value For Gradient Boost with min_samples_splits : ', 0.3, 0.5265245993895368)\n",
      "('RMSLE Value For Gradient Boost with min_samples_splits : ', 0.31, 0.5265245993895368)\n",
      "('RMSLE Value For Gradient Boost with min_samples_splits : ', 0.32, 0.5212515536613622)\n",
      "('RMSLE Value For Gradient Boost with min_samples_splits : ', 0.33, 0.5340499329545609)\n",
      "('RMSLE Value For Gradient Boost with min_samples_splits : ', 0.34, 0.5446870550064021)\n",
      "('RMSLE Value For Gradient Boost with min_samples_splits : ', 0.35000000000000003, 0.5446870550064022)\n",
      "('RMSLE Value For Gradient Boost with min_samples_splits : ', 0.36000000000000004, 0.5390233021510684)\n",
      "('RMSLE Value For Gradient Boost with min_samples_splits : ', 0.37, 0.5559379645940338)\n",
      "('RMSLE Value For Gradient Boost with min_samples_splits : ', 0.38, 0.566696658146962)\n",
      "('RMSLE Value For Gradient Boost with min_samples_splits : ', 0.39, 0.5675990957933041)\n",
      "('RMSLE Value For Gradient Boost with min_samples_splits : ', 0.4, 0.5624337781338452)\n",
      "('RMSLE Value For Gradient Boost with min_samples_splits : ', 0.41000000000000003, 0.5587355336940343)\n",
      "('RMSLE Value For Gradient Boost with min_samples_splits : ', 0.42000000000000004, 0.5540948048376378)\n",
      "('RMSLE Value For Gradient Boost with min_samples_splits : ', 0.43, 0.5493485283329662)\n",
      "('RMSLE Value For Gradient Boost with min_samples_splits : ', 0.44, 0.5573957600796706)\n",
      "('RMSLE Value For Gradient Boost with min_samples_splits : ', 0.45, 0.5282395126003331)\n",
      "('RMSLE Value For Gradient Boost with min_samples_splits : ', 0.46, 0.5430031960382498)\n",
      "('RMSLE Value For Gradient Boost with min_samples_splits : ', 0.47000000000000003, 0.5340320743311354)\n",
      "('RMSLE Value For Gradient Boost with min_samples_splits : ', 0.48000000000000004, 0.5340320743311353)\n",
      "('RMSLE Value For Gradient Boost with min_samples_splits : ', 0.49, 0.5622614431752249)\n",
      "('RMSLE Value For Gradient Boost with min_samples_splits : ', 0.5, 0.5679992128112774)\n",
      "('RMSLE Value For Gradient Boost with min_samples_splits : ', 0.51, 0.5713508498465129)\n",
      "('RMSLE Value For Gradient Boost with min_samples_splits : ', 0.52, 0.5691165372743304)\n",
      "('RMSLE Value For Gradient Boost with min_samples_splits : ', 0.53, 0.5697048990086866)\n",
      "('RMSLE Value For Gradient Boost with min_samples_splits : ', 0.54, 0.5723626260842045)\n",
      "('RMSLE Value For Gradient Boost with min_samples_splits : ', 0.55, 0.5706924702474431)\n",
      "('RMSLE Value For Gradient Boost with min_samples_splits : ', 0.56, 0.570692470247443)\n",
      "('RMSLE Value For Gradient Boost with min_samples_splits : ', 0.5700000000000001, 0.5743852376999761)\n",
      "('RMSLE Value For Gradient Boost with min_samples_splits : ', 0.5800000000000001, 0.5826599569247025)\n",
      "('RMSLE Value For Gradient Boost with min_samples_splits : ', 0.59, 0.5776481452460054)\n",
      "('RMSLE Value For Gradient Boost with min_samples_splits : ', 0.6, 0.5720767069600674)\n",
      "('RMSLE Value For Gradient Boost with min_samples_splits : ', 0.61, 0.5720767069600674)\n",
      "('RMSLE Value For Gradient Boost with min_samples_splits : ', 0.62, 0.5646384435834367)\n",
      "('RMSLE Value For Gradient Boost with min_samples_splits : ', 0.63, 0.5799180720579556)\n",
      "('RMSLE Value For Gradient Boost with min_samples_splits : ', 0.64, 0.5791573119590608)\n",
      "('RMSLE Value For Gradient Boost with min_samples_splits : ', 0.65, 0.5804887045461531)\n",
      "('RMSLE Value For Gradient Boost with min_samples_splits : ', 0.66, 0.5730923078932878)\n",
      "('RMSLE Value For Gradient Boost with min_samples_splits : ', 0.67, 0.577249546830744)\n",
      "('RMSLE Value For Gradient Boost with min_samples_splits : ', 0.68, 0.5897221312406906)\n",
      "('RMSLE Value For Gradient Boost with min_samples_splits : ', 0.6900000000000001, 0.5897221312406906)\n",
      "('RMSLE Value For Gradient Boost with min_samples_splits : ', 0.7000000000000001, 0.5871639944741854)\n",
      "('RMSLE Value For Gradient Boost with min_samples_splits : ', 0.7100000000000001, 0.594618154952505)\n",
      "('RMSLE Value For Gradient Boost with min_samples_splits : ', 0.72, 0.597050765043399)\n",
      "('RMSLE Value For Gradient Boost with min_samples_splits : ', 0.73, 0.597050765043399)\n",
      "('RMSLE Value For Gradient Boost with min_samples_splits : ', 0.74, 0.597050765043399)\n",
      "('RMSLE Value For Gradient Boost with min_samples_splits : ', 0.75, 0.597050765043399)\n",
      "('RMSLE Value For Gradient Boost with min_samples_splits : ', 0.76, 0.6035280774396548)\n",
      "('RMSLE Value For Gradient Boost with min_samples_splits : ', 0.77, 0.6035280774396549)\n",
      "('RMSLE Value For Gradient Boost with min_samples_splits : ', 0.78, 0.6026663153869846)\n",
      "('RMSLE Value For Gradient Boost with min_samples_splits : ', 0.79, 0.602275374125268)\n",
      "('RMSLE Value For Gradient Boost with min_samples_splits : ', 0.8, 0.6126222908098947)\n",
      "('RMSLE Value For Gradient Boost with min_samples_splits : ', 0.81, 0.6140402372040288)\n",
      "('RMSLE Value For Gradient Boost with min_samples_splits : ', 0.8200000000000001, 0.6121337197170663)\n",
      "('RMSLE Value For Gradient Boost with min_samples_splits : ', 0.8300000000000001, 0.6125856092198636)\n",
      "('RMSLE Value For Gradient Boost with min_samples_splits : ', 0.8400000000000001, 0.6243054794569503)\n",
      "('RMSLE Value For Gradient Boost with min_samples_splits : ', 0.85, 0.6221867133913701)\n",
      "('RMSLE Value For Gradient Boost with min_samples_splits : ', 0.86, 0.6260742743178861)\n",
      "('RMSLE Value For Gradient Boost with min_samples_splits : ', 0.87, 0.6278088500549659)\n",
      "('RMSLE Value For Gradient Boost with min_samples_splits : ', 0.88, 0.6385172980802752)\n",
      "('RMSLE Value For Gradient Boost with min_samples_splits : ', 0.89, 0.6411418220820138)\n",
      "('RMSLE Value For Gradient Boost with min_samples_splits : ', 0.9, 0.6411418220820138)\n",
      "('RMSLE Value For Gradient Boost with min_samples_splits : ', 0.91, 0.6411418220820139)\n"
     ]
    },
    {
     "name": "stdout",
     "output_type": "stream",
     "text": [
      "('RMSLE Value For Gradient Boost with min_samples_splits : ', 0.92, 0.6560939711617658)\n",
      "('RMSLE Value For Gradient Boost with min_samples_splits : ', 0.93, 0.6625888280522757)\n",
      "('RMSLE Value For Gradient Boost with min_samples_splits : ', 0.9400000000000001, 0.6648866734106177)\n",
      "('RMSLE Value For Gradient Boost with min_samples_splits : ', 0.9500000000000001, 0.6648866734106178)\n",
      "('RMSLE Value For Gradient Boost with min_samples_splits : ', 0.9600000000000001, 0.6759670523456501)\n",
      "('RMSLE Value For Gradient Boost with min_samples_splits : ', 0.97, 0.6759670523456505)\n",
      "('RMSLE Value For Gradient Boost with min_samples_splits : ', 0.98, 0.6759670523456502)\n",
      "('RMSLE Value For Gradient Boost with min_samples_splits : ', 0.99, 0.6759670523456502)\n",
      "('RMSLE Value For Gradient Boost with min_samples_splits : ', 1.0, 0.6759670523456504)\n"
     ]
    }
   ],
   "source": [
    "min_samples_splits = np.linspace(0.01, 1.0, 100, endpoint=True)\n",
    "for x in min_samples_splits :\n",
    "    model = GradientBoostingRegressor(min_samples_split = x)\n",
    "    model.fit(X = X_train, y = y_train)\n",
    "    test_y_pred = model.predict(X = X_test)\n",
    "    print (\"RMSLE Value For Gradient Boost with min_samples_splits : \",x\n",
    "           ,np.sqrt(mean_squared_log_error(np.expm1(y_test),np.expm1(test_y_pred))))\n"
   ]
  },
  {
   "cell_type": "code",
   "execution_count": 150,
   "metadata": {},
   "outputs": [
    {
     "name": "stdout",
     "output_type": "stream",
     "text": [
      "('RMSLE Value For Gradient Boost with max_features : ', 1, 0.6947360492370666)\n",
      "('RMSLE Value For Gradient Boost with max_features : ', 2, 0.5748536477170317)\n",
      "('RMSLE Value For Gradient Boost with max_features : ', 3, 0.5382213978807815)\n",
      "('RMSLE Value For Gradient Boost with max_features : ', 4, 0.48209730415170243)\n",
      "('RMSLE Value For Gradient Boost with max_features : ', 5, 0.4555332638868604)\n",
      "('RMSLE Value For Gradient Boost with max_features : ', 6, 0.41760941510199956)\n",
      "('RMSLE Value For Gradient Boost with max_features : ', 7, 0.38971195924510815)\n",
      "('RMSLE Value For Gradient Boost with max_features : ', 8, 0.3792991811611413)\n",
      "('RMSLE Value For Gradient Boost with max_features : ', 9, 0.3780268423541998)\n",
      "('RMSLE Value For Gradient Boost with max_features : ', 10, 0.39091058911098814)\n",
      "('RMSLE Value For Gradient Boost with max_features : ', 11, 0.3957097272019654)\n"
     ]
    }
   ],
   "source": [
    "max_features = list(range(1,X_train.shape[1]))\n",
    "for x in max_features:\n",
    "    model = GradientBoostingRegressor(max_features = x)\n",
    "    model.fit(X = X_train, y = y_train)\n",
    "    test_y_pred = model.predict(X = X_test)\n",
    "    print (\"RMSLE Value For Gradient Boost with max_features : \",x\n",
    "           ,np.sqrt(mean_squared_log_error(np.expm1(y_test),np.expm1(test_y_pred))))\n"
   ]
  },
  {
   "cell_type": "code",
   "execution_count": 151,
   "metadata": {},
   "outputs": [
    {
     "name": "stdout",
     "output_type": "stream",
     "text": [
      "('RMSLE Value For Gradient Boost with alpha : ', 0.01, 0.3684076583706025)\n",
      "('RMSLE Value For Gradient Boost with alpha : ', 0.02, 0.3684076583706025)\n",
      "('RMSLE Value For Gradient Boost with alpha : ', 0.03, 0.3684076583706026)\n",
      "('RMSLE Value For Gradient Boost with alpha : ', 0.04, 0.36840765837060246)\n",
      "('RMSLE Value For Gradient Boost with alpha : ', 0.05, 0.3684076583706026)\n",
      "('RMSLE Value For Gradient Boost with alpha : ', 0.060000000000000005, 0.3684076583706025)\n",
      "('RMSLE Value For Gradient Boost with alpha : ', 0.06999999999999999, 0.3684076583706025)\n",
      "('RMSLE Value For Gradient Boost with alpha : ', 0.08, 0.36840765837060246)\n",
      "('RMSLE Value For Gradient Boost with alpha : ', 0.09, 0.3684076583706025)\n",
      "('RMSLE Value For Gradient Boost with alpha : ', 0.09999999999999999, 0.36840765837060246)\n",
      "('RMSLE Value For Gradient Boost with alpha : ', 0.11, 0.3684076583706026)\n",
      "('RMSLE Value For Gradient Boost with alpha : ', 0.12, 0.3684076583706024)\n",
      "('RMSLE Value For Gradient Boost with alpha : ', 0.13, 0.3684076583706026)\n",
      "('RMSLE Value For Gradient Boost with alpha : ', 0.14, 0.3684076583706025)\n",
      "('RMSLE Value For Gradient Boost with alpha : ', 0.15000000000000002, 0.3684076583706025)\n",
      "('RMSLE Value For Gradient Boost with alpha : ', 0.16, 0.3684076583706025)\n",
      "('RMSLE Value For Gradient Boost with alpha : ', 0.17, 0.3684076583706026)\n",
      "('RMSLE Value For Gradient Boost with alpha : ', 0.18000000000000002, 0.3684076583706025)\n",
      "('RMSLE Value For Gradient Boost with alpha : ', 0.19, 0.36840765837060246)\n",
      "('RMSLE Value For Gradient Boost with alpha : ', 0.2, 0.3684076583706025)\n",
      "('RMSLE Value For Gradient Boost with alpha : ', 0.21000000000000002, 0.36840765837060246)\n",
      "('RMSLE Value For Gradient Boost with alpha : ', 0.22, 0.3684076583706026)\n",
      "('RMSLE Value For Gradient Boost with alpha : ', 0.23, 0.36840765837060246)\n",
      "('RMSLE Value For Gradient Boost with alpha : ', 0.24000000000000002, 0.3684076583706025)\n",
      "('RMSLE Value For Gradient Boost with alpha : ', 0.25, 0.36840765837060246)\n",
      "('RMSLE Value For Gradient Boost with alpha : ', 0.26, 0.3684076583706025)\n",
      "('RMSLE Value For Gradient Boost with alpha : ', 0.27, 0.3684076583706025)\n",
      "('RMSLE Value For Gradient Boost with alpha : ', 0.28, 0.3684076583706025)\n",
      "('RMSLE Value For Gradient Boost with alpha : ', 0.29000000000000004, 0.3684076583706026)\n",
      "('RMSLE Value For Gradient Boost with alpha : ', 0.3, 0.3684076583706025)\n",
      "('RMSLE Value For Gradient Boost with alpha : ', 0.31, 0.3684076583706025)\n",
      "('RMSLE Value For Gradient Boost with alpha : ', 0.32, 0.3684076583706025)\n",
      "('RMSLE Value For Gradient Boost with alpha : ', 0.33, 0.36840765837060246)\n",
      "('RMSLE Value For Gradient Boost with alpha : ', 0.34, 0.36840765837060246)\n",
      "('RMSLE Value For Gradient Boost with alpha : ', 0.35000000000000003, 0.3684076583706026)\n",
      "('RMSLE Value For Gradient Boost with alpha : ', 0.36000000000000004, 0.3684076583706026)\n",
      "('RMSLE Value For Gradient Boost with alpha : ', 0.37, 0.3684076583706026)\n",
      "('RMSLE Value For Gradient Boost with alpha : ', 0.38, 0.3684076583706026)\n",
      "('RMSLE Value For Gradient Boost with alpha : ', 0.39, 0.3684076583706026)\n",
      "('RMSLE Value For Gradient Boost with alpha : ', 0.4, 0.3684076583706025)\n",
      "('RMSLE Value For Gradient Boost with alpha : ', 0.41000000000000003, 0.36840765837060246)\n",
      "('RMSLE Value For Gradient Boost with alpha : ', 0.42000000000000004, 0.3684076583706026)\n",
      "('RMSLE Value For Gradient Boost with alpha : ', 0.43, 0.3684076583706026)\n",
      "('RMSLE Value For Gradient Boost with alpha : ', 0.44, 0.36840765837060246)\n",
      "('RMSLE Value For Gradient Boost with alpha : ', 0.45, 0.3684076583706026)\n",
      "('RMSLE Value For Gradient Boost with alpha : ', 0.46, 0.3684076583706025)\n",
      "('RMSLE Value For Gradient Boost with alpha : ', 0.47000000000000003, 0.3684076583706025)\n",
      "('RMSLE Value For Gradient Boost with alpha : ', 0.48000000000000004, 0.3684076583706026)\n",
      "('RMSLE Value For Gradient Boost with alpha : ', 0.49, 0.36840765837060246)\n",
      "('RMSLE Value For Gradient Boost with alpha : ', 0.5, 0.3684076583706026)\n",
      "('RMSLE Value For Gradient Boost with alpha : ', 0.51, 0.36840765837060246)\n",
      "('RMSLE Value For Gradient Boost with alpha : ', 0.52, 0.3684076583706025)\n",
      "('RMSLE Value For Gradient Boost with alpha : ', 0.53, 0.3684076583706025)\n",
      "('RMSLE Value For Gradient Boost with alpha : ', 0.54, 0.36840765837060246)\n",
      "('RMSLE Value For Gradient Boost with alpha : ', 0.55, 0.3684076583706025)\n",
      "('RMSLE Value For Gradient Boost with alpha : ', 0.56, 0.36840765837060246)\n",
      "('RMSLE Value For Gradient Boost with alpha : ', 0.5700000000000001, 0.36840765837060246)\n",
      "('RMSLE Value For Gradient Boost with alpha : ', 0.5800000000000001, 0.36840765837060246)\n",
      "('RMSLE Value For Gradient Boost with alpha : ', 0.59, 0.3684076583706026)\n",
      "('RMSLE Value For Gradient Boost with alpha : ', 0.6, 0.3684076583706025)\n",
      "('RMSLE Value For Gradient Boost with alpha : ', 0.61, 0.3684076583706025)\n",
      "('RMSLE Value For Gradient Boost with alpha : ', 0.62, 0.3684076583706025)\n",
      "('RMSLE Value For Gradient Boost with alpha : ', 0.63, 0.3684076583706025)\n",
      "('RMSLE Value For Gradient Boost with alpha : ', 0.64, 0.3684076583706025)\n",
      "('RMSLE Value For Gradient Boost with alpha : ', 0.65, 0.3684076583706026)\n",
      "('RMSLE Value For Gradient Boost with alpha : ', 0.66, 0.3684076583706025)\n",
      "('RMSLE Value For Gradient Boost with alpha : ', 0.67, 0.3684076583706025)\n",
      "('RMSLE Value For Gradient Boost with alpha : ', 0.68, 0.3684076583706025)\n",
      "('RMSLE Value For Gradient Boost with alpha : ', 0.6900000000000001, 0.3684076583706025)\n",
      "('RMSLE Value For Gradient Boost with alpha : ', 0.7000000000000001, 0.36840765837060246)\n",
      "('RMSLE Value For Gradient Boost with alpha : ', 0.7100000000000001, 0.3684076583706025)\n",
      "('RMSLE Value For Gradient Boost with alpha : ', 0.72, 0.3684076583706026)\n",
      "('RMSLE Value For Gradient Boost with alpha : ', 0.73, 0.36840765837060246)\n",
      "('RMSLE Value For Gradient Boost with alpha : ', 0.74, 0.3684076583706025)\n",
      "('RMSLE Value For Gradient Boost with alpha : ', 0.75, 0.36840765837060246)\n",
      "('RMSLE Value For Gradient Boost with alpha : ', 0.76, 0.3684076583706025)\n",
      "('RMSLE Value For Gradient Boost with alpha : ', 0.77, 0.3684076583706026)\n",
      "('RMSLE Value For Gradient Boost with alpha : ', 0.78, 0.3684076583706026)\n",
      "('RMSLE Value For Gradient Boost with alpha : ', 0.79, 0.3684076583706025)\n",
      "('RMSLE Value For Gradient Boost with alpha : ', 0.8, 0.3684076583706025)\n",
      "('RMSLE Value For Gradient Boost with alpha : ', 0.81, 0.3684076583706025)\n",
      "('RMSLE Value For Gradient Boost with alpha : ', 0.8200000000000001, 0.3684076583706025)\n",
      "('RMSLE Value For Gradient Boost with alpha : ', 0.8300000000000001, 0.3684076583706025)\n",
      "('RMSLE Value For Gradient Boost with alpha : ', 0.8400000000000001, 0.3684076583706025)\n",
      "('RMSLE Value For Gradient Boost with alpha : ', 0.85, 0.3684076583706025)\n",
      "('RMSLE Value For Gradient Boost with alpha : ', 0.86, 0.36840765837060246)\n",
      "('RMSLE Value For Gradient Boost with alpha : ', 0.87, 0.36840765837060246)\n",
      "('RMSLE Value For Gradient Boost with alpha : ', 0.88, 0.3684076583706026)\n",
      "('RMSLE Value For Gradient Boost with alpha : ', 0.89, 0.36840765837060246)\n",
      "('RMSLE Value For Gradient Boost with alpha : ', 0.9, 0.36840765837060246)\n",
      "('RMSLE Value For Gradient Boost with alpha : ', 0.91, 0.3684076583706025)\n",
      "('RMSLE Value For Gradient Boost with alpha : ', 0.92, 0.3684076583706026)\n",
      "('RMSLE Value For Gradient Boost with alpha : ', 0.93, 0.3684076583706026)\n",
      "('RMSLE Value For Gradient Boost with alpha : ', 0.9400000000000001, 0.36840765837060246)\n",
      "('RMSLE Value For Gradient Boost with alpha : ', 0.9500000000000001, 0.36840765837060246)\n",
      "('RMSLE Value For Gradient Boost with alpha : ', 0.9600000000000001, 0.36840765837060246)\n",
      "('RMSLE Value For Gradient Boost with alpha : ', 0.97, 0.36840765837060246)\n",
      "('RMSLE Value For Gradient Boost with alpha : ', 0.98, 0.3684076583706026)\n",
      "('RMSLE Value For Gradient Boost with alpha : ', 0.99, 0.3684076583706025)\n"
     ]
    },
    {
     "ename": "ValueError",
     "evalue": "alpha must be in (0.0, 1.0) but was 1.0",
     "output_type": "error",
     "traceback": [
      "\u001b[0;31m---------------------------------------------------------------------------\u001b[0m",
      "\u001b[0;31mValueError\u001b[0m                                Traceback (most recent call last)",
      "\u001b[0;32m<ipython-input-151-e8960618037e>\u001b[0m in \u001b[0;36m<module>\u001b[0;34m()\u001b[0m\n\u001b[1;32m      2\u001b[0m \u001b[0;32mfor\u001b[0m \u001b[0mx\u001b[0m \u001b[0;32min\u001b[0m \u001b[0malphas\u001b[0m\u001b[0;34m:\u001b[0m\u001b[0;34m\u001b[0m\u001b[0m\n\u001b[1;32m      3\u001b[0m     \u001b[0mmodel\u001b[0m \u001b[0;34m=\u001b[0m \u001b[0mGradientBoostingRegressor\u001b[0m\u001b[0;34m(\u001b[0m\u001b[0malpha\u001b[0m \u001b[0;34m=\u001b[0m \u001b[0mx\u001b[0m\u001b[0;34m)\u001b[0m\u001b[0;34m\u001b[0m\u001b[0m\n\u001b[0;32m----> 4\u001b[0;31m     \u001b[0mmodel\u001b[0m\u001b[0;34m.\u001b[0m\u001b[0mfit\u001b[0m\u001b[0;34m(\u001b[0m\u001b[0mX\u001b[0m \u001b[0;34m=\u001b[0m \u001b[0mX_train\u001b[0m\u001b[0;34m,\u001b[0m \u001b[0my\u001b[0m \u001b[0;34m=\u001b[0m \u001b[0my_train\u001b[0m\u001b[0;34m)\u001b[0m\u001b[0;34m\u001b[0m\u001b[0m\n\u001b[0m\u001b[1;32m      5\u001b[0m     \u001b[0mtest_y_pred\u001b[0m \u001b[0;34m=\u001b[0m \u001b[0mmodel\u001b[0m\u001b[0;34m.\u001b[0m\u001b[0mpredict\u001b[0m\u001b[0;34m(\u001b[0m\u001b[0mX\u001b[0m \u001b[0;34m=\u001b[0m \u001b[0mX_test\u001b[0m\u001b[0;34m)\u001b[0m\u001b[0;34m\u001b[0m\u001b[0m\n\u001b[1;32m      6\u001b[0m     print (\"RMSLE Value For Gradient Boost with alpha : \",x\n",
      "\u001b[0;32m/home/jatin/anaconda2/lib/python2.7/site-packages/sklearn/ensemble/gradient_boosting.pyc\u001b[0m in \u001b[0;36mfit\u001b[0;34m(self, X, y, sample_weight, monitor)\u001b[0m\n\u001b[1;32m   1412\u001b[0m             \u001b[0mX_val\u001b[0m \u001b[0;34m=\u001b[0m \u001b[0my_val\u001b[0m \u001b[0;34m=\u001b[0m \u001b[0msample_weight_val\u001b[0m \u001b[0;34m=\u001b[0m \u001b[0mNone\u001b[0m\u001b[0;34m\u001b[0m\u001b[0m\n\u001b[1;32m   1413\u001b[0m \u001b[0;34m\u001b[0m\u001b[0m\n\u001b[0;32m-> 1414\u001b[0;31m         \u001b[0mself\u001b[0m\u001b[0;34m.\u001b[0m\u001b[0m_check_params\u001b[0m\u001b[0;34m(\u001b[0m\u001b[0;34m)\u001b[0m\u001b[0;34m\u001b[0m\u001b[0m\n\u001b[0m\u001b[1;32m   1415\u001b[0m \u001b[0;34m\u001b[0m\u001b[0m\n\u001b[1;32m   1416\u001b[0m         \u001b[0;32mif\u001b[0m \u001b[0;32mnot\u001b[0m \u001b[0mself\u001b[0m\u001b[0;34m.\u001b[0m\u001b[0m_is_initialized\u001b[0m\u001b[0;34m(\u001b[0m\u001b[0;34m)\u001b[0m\u001b[0;34m:\u001b[0m\u001b[0;34m\u001b[0m\u001b[0m\n",
      "\u001b[0;32m/home/jatin/anaconda2/lib/python2.7/site-packages/sklearn/ensemble/gradient_boosting.pyc\u001b[0m in \u001b[0;36m_check_params\u001b[0;34m(self)\u001b[0m\n\u001b[1;32m   1247\u001b[0m         \u001b[0;32mif\u001b[0m \u001b[0;32mnot\u001b[0m \u001b[0;34m(\u001b[0m\u001b[0;36m0.0\u001b[0m \u001b[0;34m<\u001b[0m \u001b[0mself\u001b[0m\u001b[0;34m.\u001b[0m\u001b[0malpha\u001b[0m \u001b[0;34m<\u001b[0m \u001b[0;36m1.0\u001b[0m\u001b[0;34m)\u001b[0m\u001b[0;34m:\u001b[0m\u001b[0;34m\u001b[0m\u001b[0m\n\u001b[1;32m   1248\u001b[0m             raise ValueError(\"alpha must be in (0.0, 1.0) but \"\n\u001b[0;32m-> 1249\u001b[0;31m                              \"was %r\" % self.alpha)\n\u001b[0m\u001b[1;32m   1250\u001b[0m \u001b[0;34m\u001b[0m\u001b[0m\n\u001b[1;32m   1251\u001b[0m         \u001b[0;32mif\u001b[0m \u001b[0misinstance\u001b[0m\u001b[0;34m(\u001b[0m\u001b[0mself\u001b[0m\u001b[0;34m.\u001b[0m\u001b[0mmax_features\u001b[0m\u001b[0;34m,\u001b[0m \u001b[0msix\u001b[0m\u001b[0;34m.\u001b[0m\u001b[0mstring_types\u001b[0m\u001b[0;34m)\u001b[0m\u001b[0;34m:\u001b[0m\u001b[0;34m\u001b[0m\u001b[0m\n",
      "\u001b[0;31mValueError\u001b[0m: alpha must be in (0.0, 1.0) but was 1.0"
     ]
    }
   ],
   "source": [
    "alphas = np.linspace(0.01, 1.0, 100, endpoint=True)\n",
    "for x in alphas:\n",
    "    model = GradientBoostingRegressor(alpha = x)\n",
    "    model.fit(X = X_train, y = y_train)\n",
    "    test_y_pred = model.predict(X = X_test)\n",
    "    print (\"RMSLE Value For Gradient Boost with alpha : \",x\n",
    "           ,np.sqrt(mean_squared_log_error(np.expm1(y_test),np.expm1(test_y_pred))))"
   ]
  },
  {
   "cell_type": "code",
   "execution_count": null,
   "metadata": {
    "scrolled": true
   },
   "outputs": [],
   "source": [
    "from sklearn.ensemble import GradientBoostingRegressor\n",
    "gbm = GradientBoostingRegressor()\n",
    "#gbm = GradientBoostingRegressor(max_features = 11, min_samples_split = 0.05, max_depth = 8, n_estimators = 5000, learning_rate = 0.5)\n",
    "gbm.fit(X = X_train, y = y_train)\n",
    "test_y_pred = gbm.predict(X = X_test)b\n",
    "print (\"RMSLE Value For Gradient Boost: \",\n",
    "       np.sqrt(mean_squared_log_error(np.expm1(y_test),max(0,np.expm1(test_y_pred)))))"
   ]
  },
  {
   "cell_type": "code",
   "execution_count": null,
   "metadata": {},
   "outputs": [],
   "source": [
    "from sklearn.ensemble import GradientBoostingRegressor\n",
    "gbm = GradientBoostingRegressor(n_estimators = 5000)\n",
    "#max_features = 11, min_samples_split = 0.05, max_depth = 8, n_estimators = 5000, learning_rate = 0.5\n",
    "gbm.fit(X = X_train, y = y_train)\n",
    "train_y_pred = gbm.predict(X = X_test)\n",
    "print (\"RMSLE Value For Gradient Boost: \",\n",
    "       np.sqrt(mean_squared_log_error(np.expm1(y_test),np.expm1(train_y_pred))))"
   ]
  },
  {
   "cell_type": "code",
   "execution_count": null,
   "metadata": {},
   "outputs": [],
   "source": [
    "def rmsle(y, y_):\n",
    "    return np.sqrt(mean_squared_log_error(np.expm1(y),np.expm1(y_)))"
   ]
  },
  {
   "cell_type": "code",
   "execution_count": null,
   "metadata": {},
   "outputs": [],
   "source": [
    "from sklearn.model_selection import learning_curve, GridSearchCV\n",
    "from sklearn import metrics\n",
    "\n",
    "rmsle_scorer = metrics.make_scorer(rmsle, greater_is_better=False)\n",
    "\n",
    "n_estimators_list = [1, 2, 4, 8, 16, 32, 64, 100, 200, 1000, 2500, 5000]\n",
    "param_test1 = {'n_estimators' : n_estimators_list}\n",
    "gsearch1 = GridSearchCV(estimator = GradientBoostingRegressor(), param_grid = param_test1, scoring=rmsle_scorer,cv = 5)\n",
    "gsearch1.fit(X_train,y_train)\n",
    "gsearch1.best_params_, gsearch1.best_score_\n",
    "\n",
    "\n",
    "# learning rate : 0.1 output was --> ({'n_estimators': 1000}, -0.2856293263149054)\n"
   ]
  },
  {
   "cell_type": "code",
   "execution_count": null,
   "metadata": {},
   "outputs": [],
   "source": [
    "X_train.shape"
   ]
  },
  {
   "cell_type": "code",
   "execution_count": null,
   "metadata": {},
   "outputs": [],
   "source": [
    "split_samples_list = [50, 100, 500, 1000, 2000, 5000]\n",
    "max_depth_list = range(5,16,3)\n",
    "param_test2= {'max_depth' : max_depth_list, 'min_samples_split' : split_samples_list}\n",
    "gsearch2 = GridSearchCV(estimator = GradientBoostingRegressor(n_estimators=1000), param_grid = param_test2, scoring=rmsle_scorer,cv = 5)\n",
    "gsearch2.fit(X_train,y_train)\n",
    "gsearch2.best_params_, gsearch2.best_score_\n",
    "\n",
    "# ({'max_depth': 5, 'min_samples_split': 50}, -0.2863629564660638)\n"
   ]
  },
  {
   "cell_type": "code",
   "execution_count": null,
   "metadata": {},
   "outputs": [],
   "source": [
    "X_train.shape"
   ]
  },
  {
   "cell_type": "code",
   "execution_count": null,
   "metadata": {},
   "outputs": [],
   "source": [
    "max_features_list = range(1,X_train.shape[1] + 1, 1)\n",
    "param_test3= {'max_features' : max_features_list}\n",
    "gsearch3 = GridSearchCV(estimator = GradientBoostingRegressor(n_estimators=1000, max_depth=5, min_samples_split=50), param_grid = param_test3, scoring=rmsle_scorer,cv = 5)\n",
    "gsearch3.fit(X_train,y_train)\n",
    "gsearch3.best_params_, gsearch2.best_score_\n",
    "#({'max_features': 9}, -0.2863629564660638)"
   ]
  },
  {
   "cell_type": "markdown",
   "metadata": {},
   "source": [
    " # Optimized Run"
   ]
  },
  {
   "cell_type": "code",
   "execution_count": null,
   "metadata": {},
   "outputs": [],
   "source": [
    "from sklearn.ensemble import GradientBoostingRegressor\n",
    "gbm = GradientBoostingRegressor(n_estimators=1000, max_depth=5, min_samples_split=50, max_features = 9)\n",
    "#gbm = GradientBoostingRegressor(max_features = 11, min_samples_split = 0.05, max_depth = 8, n_estimators = 5000, learning_rate = 0.5)\n",
    "gbm.fit(X = X_train, y = y_train)\n",
    "test_y_pred = gbm.predict(X = X_test)\n",
    "print (\"RMSLE Value For Gradient Boost Optimized: \",\n",
    "       np.sqrt(mean_squared_log_error(np.expm1(y_test),np.expm1(test_y_pred))))"
   ]
  },
  {
   "cell_type": "markdown",
   "metadata": {},
   "source": [
    "# Final Kaggle Submission"
   ]
  },
  {
   "cell_type": "code",
   "execution_count": null,
   "metadata": {},
   "outputs": [],
   "source": [
    "from sklearn.ensemble import GradientBoostingRegressor\n",
    "gbm = GradientBoostingRegressor(n_estimators=1000, max_depth=5, min_samples_split=50, max_features = 9)\n",
    "gbm.fit(X = data_train, y = y_labels_log)\n",
    "train_y_pred = gbm.predict(X = data_test)"
   ]
  },
  {
   "cell_type": "code",
   "execution_count": null,
   "metadata": {},
   "outputs": [],
   "source": [
    "submission = pd.DataFrame({\n",
    "        \"datetime\": datetime_col,\n",
    "        \"count\": [max(0, x) for x in np.expm1(train_y_pred)]\n",
    "    })\n",
    "submission.to_csv('bike_predictions_gbm_optimized.csv', index=False)"
   ]
  },
  {
   "cell_type": "code",
   "execution_count": null,
   "metadata": {},
   "outputs": [],
   "source": []
  },
  {
   "cell_type": "code",
   "execution_count": null,
   "metadata": {},
   "outputs": [],
   "source": []
  },
  {
   "cell_type": "code",
   "execution_count": null,
   "metadata": {},
   "outputs": [],
   "source": []
  },
  {
   "cell_type": "code",
   "execution_count": null,
   "metadata": {},
   "outputs": [],
   "source": []
  },
  {
   "cell_type": "code",
   "execution_count": null,
   "metadata": {},
   "outputs": [],
   "source": []
  },
  {
   "cell_type": "code",
   "execution_count": null,
   "metadata": {},
   "outputs": [],
   "source": []
  }
 ],
 "metadata": {
  "kernelspec": {
   "display_name": "Python 2",
   "language": "python",
   "name": "python2"
  },
  "language_info": {
   "codemirror_mode": {
    "name": "ipython",
    "version": 2
   },
   "file_extension": ".py",
   "mimetype": "text/x-python",
   "name": "python",
   "nbconvert_exporter": "python",
   "pygments_lexer": "ipython2",
   "version": "2.7.15"
  }
 },
 "nbformat": 4,
 "nbformat_minor": 2
}
